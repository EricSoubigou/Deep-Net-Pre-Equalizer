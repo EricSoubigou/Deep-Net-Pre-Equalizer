{
 "cells": [
  {
   "cell_type": "markdown",
   "metadata": {
    "colab_type": "text",
    "id": "JmRsVJrvJD6-",
    "pycharm": {}
   },
   "source": [
    "-------------------------------------------------------------------------------------------------------------------\n",
    "Implementation of : \"Online Label Recovery for Deep Learning-based communication through Error Correcting codes\"\n",
    "\n",
    "Author : Eric Soubigou\n",
    "\n",
    "Date : Spring 2019\n",
    "\n",
    "-------------------------------------------------------------------------------------------------------------------\n",
    "\n",
    "Description :  Creation of a DFE like with Deep Learning technologies"
   ]
  },
  {
   "cell_type": "code",
   "execution_count": 1,
   "metadata": {
    "colab": {
     "base_uri": "https://localhost:8080/",
     "height": 343
    },
    "colab_type": "code",
    "id": "qJ7p4pjiP3ak",
    "outputId": "8a04c1d7-1857-4441-b539-2bac38b68076",
    "pycharm": {}
   },
   "outputs": [
    {
     "name": "stdout",
     "output_type": "stream",
     "text": [
      "Collecting git+git://github.com/veeresht/CommPy.git@master\n",
      "  Cloning git://github.com/veeresht/CommPy.git (to revision master) to /tmp/pip-req-build-fx5czc4h\n",
      "  Running command git clone -q git://github.com/veeresht/CommPy.git /tmp/pip-req-build-fx5czc4h\n",
      "Requirement already satisfied (use --upgrade to upgrade): scikit-commpy==0.3.0 from git+git://github.com/veeresht/CommPy.git@master in /home/eric/.local/lib/python3.6/site-packages\n",
      "Requirement already satisfied: numpy in /home/eric/.local/lib/python3.6/site-packages (from scikit-commpy==0.3.0) (1.16.2)\n",
      "Requirement already satisfied: scipy in /home/eric/.local/lib/python3.6/site-packages (from scikit-commpy==0.3.0) (1.2.1)\n",
      "Requirement already satisfied: matplotlib in /home/eric/.local/lib/python3.6/site-packages (from scikit-commpy==0.3.0) (3.0.3)\n",
      "Requirement already satisfied: python-dateutil>=2.1 in /home/eric/.local/lib/python3.6/site-packages (from matplotlib->scikit-commpy==0.3.0) (2.8.0)\n",
      "Requirement already satisfied: kiwisolver>=1.0.1 in /home/eric/.local/lib/python3.6/site-packages (from matplotlib->scikit-commpy==0.3.0) (1.0.1)\n",
      "Requirement already satisfied: pyparsing!=2.0.4,!=2.1.2,!=2.1.6,>=2.0.1 in /home/eric/.local/lib/python3.6/site-packages (from matplotlib->scikit-commpy==0.3.0) (2.4.0)\n",
      "Requirement already satisfied: cycler>=0.10 in /home/eric/.local/lib/python3.6/site-packages (from matplotlib->scikit-commpy==0.3.0) (0.10.0)\n",
      "Requirement already satisfied: six>=1.5 in /home/eric/.local/lib/python3.6/site-packages (from python-dateutil>=2.1->matplotlib->scikit-commpy==0.3.0) (1.12.0)\n",
      "Requirement already satisfied: setuptools in /usr/local/lib/python3.6/dist-packages (from kiwisolver>=1.0.1->matplotlib->scikit-commpy==0.3.0) (40.8.0)\n",
      "Building wheels for collected packages: scikit-commpy\n",
      "  Building wheel for scikit-commpy (setup.py) ... \u001b[?25ldone\n",
      "\u001b[?25h  Stored in directory: /tmp/pip-ephem-wheel-cache-1jbhmiod/wheels/d1/6a/31/8ddc70e8eb8a1c3ad344032ed43b4ebfccc41007e8850226d0\n",
      "Successfully built scikit-commpy\n",
      "Requirement already satisfied: torch in /home/eric/.local/lib/python3.6/site-packages (1.0.1.post2)\n",
      "Requirement already satisfied: matplotlib in /home/eric/.local/lib/python3.6/site-packages (3.0.3)\n",
      "Requirement already satisfied: kiwisolver>=1.0.1 in /home/eric/.local/lib/python3.6/site-packages (from matplotlib) (1.0.1)\n",
      "Requirement already satisfied: pyparsing!=2.0.4,!=2.1.2,!=2.1.6,>=2.0.1 in /home/eric/.local/lib/python3.6/site-packages (from matplotlib) (2.4.0)\n",
      "Requirement already satisfied: cycler>=0.10 in /home/eric/.local/lib/python3.6/site-packages (from matplotlib) (0.10.0)\n",
      "Requirement already satisfied: python-dateutil>=2.1 in /home/eric/.local/lib/python3.6/site-packages (from matplotlib) (2.8.0)\n",
      "Requirement already satisfied: numpy>=1.10.0 in /home/eric/.local/lib/python3.6/site-packages (from matplotlib) (1.16.2)\n",
      "Requirement already satisfied: setuptools in /usr/local/lib/python3.6/dist-packages (from kiwisolver>=1.0.1->matplotlib) (40.8.0)\n",
      "Requirement already satisfied: six in /home/eric/.local/lib/python3.6/site-packages (from cycler>=0.10->matplotlib) (1.12.0)\n",
      "Requirement already satisfied: scipy in /home/eric/.local/lib/python3.6/site-packages (1.2.1)\n",
      "Requirement already satisfied: numpy>=1.8.2 in /home/eric/.local/lib/python3.6/site-packages (from scipy) (1.16.2)\n",
      "================== DONE ! ==================\n"
     ]
    }
   ],
   "source": [
    "# Install libraries :\n",
    "!pip3 install --user git+git://github.com/veeresht/CommPy.git@master\n",
    "!pip3 install --user torch\n",
    "!pip3 install --user matplotlib\n",
    "!pip3 install --user scipy\n",
    "print(\"================== DONE ! ==================\")"
   ]
  },
  {
   "cell_type": "code",
   "execution_count": 3,
   "metadata": {},
   "outputs": [
    {
     "name": "stdout",
     "output_type": "stream",
     "text": [
      "The autoreload extension is already loaded. To reload it, use:\n",
      "  %reload_ext autoreload\n"
     ]
    }
   ],
   "source": [
    "## Imports\n",
    "%load_ext autoreload\n",
    "%autoreload 2"
   ]
  },
  {
   "cell_type": "code",
   "execution_count": 4,
   "metadata": {
    "colab": {},
    "colab_type": "code",
    "id": "Ka8RHlvyKLf9",
    "pycharm": {}
   },
   "outputs": [],
   "source": [
    "from __future__ import print_function\n",
    "import matplotlib.pyplot as plt\n",
    "import pickle # For saving file\n",
    "import copy as cpy\n",
    "\n",
    "# Scipy\n",
    "import scipy as sp\n",
    "from scipy import signal\n",
    "\n",
    "# Numpy\n",
    "import numpy as np\n",
    "np.set_printoptions(precision=2)\n",
    "\n",
    "# Random\n",
    "import random\n",
    "\n",
    "# Compy\n",
    "from commpy.filters import *\n",
    "import commpy as cp\n",
    "## Simulation import\n",
    "from commpy.channelcoding.convcode import Trellis, conv_encode, viterbi_decode\n",
    "from commpy.modulation import *\n",
    "\n",
    "# For DL libraries \n",
    "import torch\n",
    "import torch.nn as nn\n",
    "import torch.nn.functional as F\n",
    "\n",
    "# Set the use of device which will be used \n",
    "if torch.cuda.is_available():\n",
    "    device = torch.device('cuda')\n",
    "    FloatTensor = torch.cuda.FloatTensor\n",
    "else:\n",
    "    device = torch.device('cpu')\n",
    "    FloatTensor = torch.FloatTensor\n"
   ]
  },
  {
   "cell_type": "code",
   "execution_count": 20,
   "metadata": {},
   "outputs": [
    {
     "name": "stdout",
     "output_type": "stream",
     "text": [
      "Results will be printed in :  ./results/OFDM_eq_ZF_coding_0.5_AWGN_non_lin_coeff_0.5_iq_im_0.5_snr_0_to_50_step_2_.pickle\n",
      "At  0.0  % , BER =  0.448828125 , FER =  1.0  for  Eb/N0 =  0  dB , SNR =  0.0 dB  nb_tries =  100\n",
      "At  4.0  % , BER =  0.4026171875 , FER =  1.0  for  Eb/N0 =  2  dB , SNR =  2.0 dB  nb_tries =  100\n",
      "At  8.0  % , BER =  0.302890625 , FER =  1.0  for  Eb/N0 =  4  dB , SNR =  4.0 dB  nb_tries =  100\n",
      "At  12.0  % , BER =  0.1786328125 , FER =  1.0  for  Eb/N0 =  6  dB , SNR =  6.0 dB  nb_tries =  100\n",
      "At  16.0  % , BER =  0.071875 , FER =  1.0  for  Eb/N0 =  8  dB , SNR =  8.0 dB  nb_tries =  100\n",
      "At  20.0  % , BER =  0.015124198717948718 , FER =  0.8547008547008547  for  Eb/N0 =  10  dB , SNR =  10.0 dB  nb_tries =  117\n",
      "At  24.0  % , BER =  0.0009135982932996208 , FER =  0.1264222503160556  for  Eb/N0 =  12  dB , SNR =  12.0 dB  nb_tries =  791\n",
      "At  28.0  % , BER =  7.03125e-06 , FER =  0.0012  for  Eb/N0 =  14  dB , SNR =  14.0 dB  nb_tries =  10000\n"
     ]
    },
    {
     "data": {
      "image/png": "[encoded data removed]",
      "text/plain": [
       "<Figure size 432x288 with 1 Axes>"
      ]
     },
     "metadata": {
      "needs_background": "light"
     },
     "output_type": "display_data"
    },
    {
     "data": {
      "image/png": "[encoded data removed]",
      "text/plain": [
       "<Figure size 432x288 with 1 Axes>"
      ]
     },
     "metadata": {
      "needs_background": "light"
     },
     "output_type": "display_data"
    }
   ],
   "source": [
    "# Launch simulation\n",
    "from MonteCarlo import *\n",
    "\n",
    "simulation_param_dict = {\n",
    "    \"m_c_parameters\": {\n",
    "        \"min_error_frame\": 100,\n",
    "        \"targeted_fer\": 1e-2,\n",
    "        \"step_db\": 2,\n",
    "        \"min_eb_n0\": 0,\n",
    "        \"max_eb_n0\": 50,\n",
    "    },\n",
    "    \"channel_parameters\": {\n",
    "        \"channel_type\": \"AWGN\",\n",
    "        \"non_lin_coeff\": 0.5,\n",
    "        \"iq_imbalance\": 0.5,\n",
    "        \"channel_taps\": np.array([1]),\n",
    "    },\n",
    "    \"frame_length\": 256,\n",
    "    \"modulation\": {\n",
    "        \"modulation_order\": 4,\n",
    "        \"nb_carriers\": 64,\n",
    "        \"cp_length\": 8,\n",
    "        \"off_carrier\": 0,\n",
    "    },\n",
    "    \"equalizer\": \"ZF\",\n",
    "    \"channel_coding\": {\n",
    "        \"mem_size\": np.array([2]),\n",
    "        \"g_matrix\": np.array([[0o5, 0o7]]),\n",
    "        \"rho\": 1 / 2,  #  Coding rate\n",
    "    },\n",
    "    \"pre_equalizer\": {\n",
    "        \"model_path\": None,\n",
    "        \"feed_back_freq\": 0,\n",
    "    }\n",
    "}\n",
    "\n",
    "# Launch the simulation\n",
    "monte_carlo_simulation(simulation_param_dict)"
   ]
  },
  {
   "cell_type": "code",
   "execution_count": 26,
   "metadata": {},
   "outputs": [
    {
     "data": {
      "image/png": "[encoded data removed]",
      "text/plain": [
       "<Figure size 432x288 with 1 Axes>"
      ]
     },
     "metadata": {
      "needs_background": "light"
     },
     "output_type": "display_data"
    }
   ],
   "source": []
  },
  {
   "cell_type": "code",
   "execution_count": 5,
   "metadata": {},
   "outputs": [
    {
     "name": "stdout",
     "output_type": "stream",
     "text": [
      "shape comparison samples and targets (35160, 72) (35160, 72)\n",
      "Data set created at ./data_set/OFDM_non_lin_coeff_0.5_iq_im_0.5_eb_n0_10_proakis_C.pt\n"
     ]
    }
   ],
   "source": [
    "from DataSetManager import *\n",
    "\n",
    "# Data set Creation\n",
    "data_set_generation_param_dict = {\n",
    "    \"eb_n0_db\": 10,\n",
    "    \"channel_parameters\": {\n",
    "        \"channel_type\": \"AWGN\",\n",
    "        \"non_lin_coeff\": 0.5,\n",
    "        \"iq_imbalance\": 0.5,\n",
    "        \"channel_taps\": np.array([1]),\n",
    "    },\n",
    "    \"frame_length\": 2000140, # 1000040\n",
    "    \"modulation\": {\n",
    "        \"modulation_order\": 4,\n",
    "        \"nb_carriers\": 64,\n",
    "        \"cp_length\": 8,\n",
    "        \"off_carrier\": 0,\n",
    "    },\n",
    "    \"equalizer\": \"MMSE\",\n",
    "    \"channel_coding\": {\n",
    "        \"mem_size\": np.array([2]),\n",
    "        \"g_matrix\": np.array([[0o5, 0o7]]),\n",
    "        \"rho\": 1 / 2,  #  Coding rate\n",
    "    },\n",
    "}\n",
    "\n",
    "create_data_set(data_set_generation_param_dict)"
   ]
  },
  {
   "cell_type": "code",
   "execution_count": 102,
   "metadata": {},
   "outputs": [
    {
     "name": "stdout",
     "output_type": "stream",
     "text": [
      "Splitting of data set: \n",
      "\tTraining set size : 28128/35160 \n",
      "\tValidation set size : 3516/35160 \n",
      "\tValidation test size : 3516/35160\n",
      "Can't load ./models/pre_eq_model_test => Generate a new model\n",
      "Epoch 300/300; training MSE : 0.0001565646380186081; validation MSE : 0.00040375778917223215"
     ]
    },
    {
     "data": {
      "image/png": "[encoded data removed]",
      "text/plain": [
       "<Figure size 432x288 with 1 Axes>"
      ]
     },
     "metadata": {
      "needs_background": "light"
     },
     "output_type": "display_data"
    }
   ],
   "source": [
    "#  Train the NN-prequlizer\n",
    "from PreEqualizer import *\n",
    "from torch.utils.data import DataLoader\n",
    "\n",
    "# Load the data set\n",
    "data_set = OFDMSamplesDataset(\n",
    "    \"./data_set/OFDM_non_lin_coeff_0.5_iq_im_0.5_eb_n0_10_proakis_C.pt\"\n",
    ")\n",
    "# Spliting policies\n",
    "training_size = int(0.8 * len(data_set))\n",
    "validation_size = int(0.1 * len(data_set))\n",
    "test_size = int(0.1 * len(data_set))\n",
    "\n",
    "print(\n",
    "    \"Splitting of data set: \\n\\tTraining set size : {}/{} \\n\\tValidation set size : {}/{} \\n\\tValidation test size : {}/{}\\n\".format(\n",
    "        str(training_size),\n",
    "        str(len(data_set)),\n",
    "        str(validation_size),\n",
    "        str(len(data_set)),\n",
    "        str(test_size),\n",
    "        str(len(data_set)),\n",
    "    )\n",
    ")\n",
    "\n",
    "# Split data set\n",
    "training_set, validation_set, test_set = torch.utils.data.random_split(\n",
    "    data_set, [training_size, validation_size, test_size]\n",
    ")\n",
    "\n",
    "# Create a data loaders.\n",
    "training_dataloader = DataLoader(dataset=training_set, batch_size=2000, shuffle=False)\n",
    "validation_dataloader = DataLoader(\n",
    "    dataset=validation_set, batch_size=2000, shuffle=False\n",
    ")\n",
    "\n",
    "# Creation of the PreEqualizer\n",
    "model_path = \"./models/pre_eq_model_test\"\n",
    "\n",
    "pre_eq = PreEqualizer(data_set.get_number_of_carriers())\n",
    "\n",
    "try:\n",
    "    pre_eq.load_state_dict(torch.load(model_path))\n",
    "except:\n",
    "    print(\"Can't load {} => Generate a new model\\n\".format(model_path))\n",
    "\n",
    "# Train the Pre-Equalizer in standalone mode\n",
    "PreEqualizer.train(\n",
    "    pre_eq, training_dataloader, validation_dataloader, nb_epochs=300, sgd_step=0.001\n",
    ")\n",
    "\n",
    "# Save the model after training\n",
    "torch.save(pre_eq.state_dict(), model_path)"
   ]
  },
  {
   "cell_type": "code",
   "execution_count": null,
   "metadata": {},
   "outputs": [
    {
     "name": "stdout",
     "output_type": "stream",
     "text": [
      "Results will be printed in :  ./results/OFDM_eq_ZF_coding_0.5_AWGN_non_lin_coeff_0.5_iq_im_0.5_snr_0_to_30_step_2_pre_equalizer_update_0.pickle\n",
      "At  0.0  % , BER =  0.4807421875 , FER =  1.0  for  Eb/N0 =  0  dB , SNR =  0.0 dB  nb_tries =  100\n",
      "At  6.0  % , BER =  0.4554296875 , FER =  1.0  for  Eb/N0 =  2  dB , SNR =  2.0 dB  nb_tries =  100\n",
      "At  13.0  % , BER =  0.353671875 , FER =  1.0  for  Eb/N0 =  4  dB , SNR =  4.0 dB  nb_tries =  100\n",
      "At  20.0  % , BER =  0.134140625 , FER =  1.0  for  Eb/N0 =  6  dB , SNR =  6.0 dB  nb_tries =  100\n",
      "At  26.0  % , BER =  0.007994791666666667 , FER =  0.6666666666666666  for  Eb/N0 =  8  dB , SNR =  8.0 dB  nb_tries =  150\n"
     ]
    }
   ],
   "source": [
    "# Launch simulation\n",
    "from MonteCarlo import *\n",
    "\n",
    "# Model loading\n",
    "model_path = \"./models/pre_eq_model_test\"\n",
    "\n",
    "simulation_param_dict = {\n",
    "    \"m_c_parameters\": {\n",
    "        \"min_error_frame\": 100,\n",
    "        \"targeted_fer\": 1e-2,\n",
    "        \"step_db\": 2,\n",
    "        \"min_eb_n0\": 0,\n",
    "        \"max_eb_n0\": 30,\n",
    "    },\n",
    "    \"channel_parameters\": {\n",
    "        \"channel_type\": \"AWGN\",\n",
    "        \"non_lin_coeff\": 0.5,\n",
    "        \"iq_imbalance\": 0.5,\n",
    "        \"channel_taps\": np.array([1]),\n",
    "    },\n",
    "    \"frame_length\": 256,\n",
    "    \"modulation\": {\n",
    "        \"modulation_order\": 4,\n",
    "        \"nb_carriers\": 64,\n",
    "        \"cp_length\": 8,\n",
    "        \"off_carrier\": 0,\n",
    "    },\n",
    "    \"equalizer\": \"ZF\",\n",
    "    \"channel_coding\": {\n",
    "        \"mem_size\": np.array([2]),\n",
    "        \"g_matrix\": np.array([[0o5, 0o7]]),\n",
    "        \"rho\": 1 / 2,  #  Coding rate\n",
    "    },\n",
    "    \"pre_equalizer\": {\n",
    "        \"model_path\": model_path,\n",
    "        \"feed_back_freq\": 0,\n",
    "    }\n",
    "}\n",
    "\n",
    "# Launch the simulation\n",
    "monte_carlo_simulation(simulation_param_dict, \"test\")"
   ]
  },
  {
   "cell_type": "code",
   "execution_count": null,
   "metadata": {},
   "outputs": [],
   "source": [
    "# Print of performances\n",
    "from Utils import *\n",
    "\n",
    "res_MMSE = load_results(\"./results/OFDM_eq_MMSE_coding_0.5_AWGN_non_lin_coeff_0.5_iq_im_0.5_snr_0_to_50_step_2_.pickle\");\n",
    "res_ZF = load_results(\"./results/OFDM_eq_ZF_coding_0.5_AWGN_non_lin_coeff_0.5_iq_im_0.5_snr_0_to_50_step_2_.pickle\");\n",
    "res_ZF_pre_eq = load_results(\"./results/OFDM_eq_ZF_coding_0.5_AWGN_non_lin_coeff_0.5_iq_im_0.5_snr_0_to_30_step_2_pre_equalizer_update_0.pickle\")\n",
    "res_MMSE_pre_eq = load_results(\"./results/OFDM_eq_MMSE_coding_0.5_AWGN_non_lin_coeff_0.5_iq_im_0.5_snr_0_to_30_step_2_pre_equalizer_update_0.pickle\")\n",
    "\n",
    "plot_performance([res_ZF, res_MMSE])\n"
   ]
  }
 ],
 "metadata": {
  "accelerator": "GPU",
  "colab": {
   "collapsed_sections": [],
   "name": "online_label_recovery.ipynb",
   "provenance": [],
   "version": "0.3.2"
  },
  "kernelspec": {
   "display_name": "Python 3",
   "language": "python",
   "name": "python3"
  },
  "language_info": {
   "codemirror_mode": {
    "name": "ipython",
    "version": 3
   },
   "file_extension": ".py",
   "mimetype": "text/x-python",
   "name": "python",
   "nbconvert_exporter": "python",
   "pygments_lexer": "ipython3",
   "version": "3.6.7"
  }
 },
 "nbformat": 4,
 "nbformat_minor": 2
}

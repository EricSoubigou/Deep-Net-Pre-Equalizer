{
 "cells": [
  {
   "cell_type": "markdown",
   "metadata": {
    "colab_type": "text",
    "id": "JmRsVJrvJD6-",
    "pycharm": {}
   },
   "source": [
    "-------------------------------------------------------------------------------------------------------------------\n",
    "Implementation of : \"Online Label Recovery for Deep Learning-based communication through Error Correcting codes\"\n",
    "\n",
    "Author : Eric Soubigou\n",
    "\n",
    "Date : Spring 2019\n",
    "\n",
    "-------------------------------------------------------------------------------------------------------------------\n",
    "\n",
    "Description :  Creation of a DFE like with Deep Learning technologies"
   ]
  },
  {
   "cell_type": "code",
   "execution_count": 1,
   "metadata": {
    "colab": {
     "base_uri": "https://localhost:8080/",
     "height": 343
    },
    "colab_type": "code",
    "id": "qJ7p4pjiP3ak",
    "outputId": "8a04c1d7-1857-4441-b539-2bac38b68076",
    "pycharm": {}
   },
   "outputs": [
    {
     "name": "stdout",
     "output_type": "stream",
     "text": [
      "Requirement already up-to-date: pip in /home/eric/.local/lib/python3.6/site-packages (19.1.1)\n",
      "Requirement already satisfied: scipy in /home/eric/.local/lib/python3.6/site-packages (1.2.1)\n",
      "Requirement already satisfied: matplotlib in /home/eric/.local/lib/python3.6/site-packages (3.0.3)\n",
      "Requirement already satisfied: matplotlib2tikz in /usr/local/lib/python3.6/dist-packages (0.7.4)\n",
      "Requirement already satisfied: torch in /home/eric/.local/lib/python3.6/site-packages (1.0.1.post2)\n",
      "Requirement already satisfied: numpy>=1.8.2 in /home/eric/.local/lib/python3.6/site-packages (from scipy) (1.16.2)\n",
      "Requirement already satisfied: kiwisolver>=1.0.1 in /home/eric/.local/lib/python3.6/site-packages (from matplotlib) (1.0.1)\n",
      "Requirement already satisfied: cycler>=0.10 in /home/eric/.local/lib/python3.6/site-packages (from matplotlib) (0.10.0)\n",
      "Requirement already satisfied: pyparsing!=2.0.4,!=2.1.2,!=2.1.6,>=2.0.1 in /home/eric/.local/lib/python3.6/site-packages (from matplotlib) (2.4.0)\n",
      "Requirement already satisfied: python-dateutil>=2.1 in /home/eric/.local/lib/python3.6/site-packages (from matplotlib) (2.8.0)\n",
      "Requirement already satisfied: Pillow in /usr/lib/python3/dist-packages (from matplotlib2tikz) (5.1.0)\n",
      "Requirement already satisfied: six in /home/eric/.local/lib/python3.6/site-packages (from matplotlib2tikz) (1.12.0)\n",
      "Requirement already satisfied: setuptools in /usr/local/lib/python3.6/dist-packages (from kiwisolver>=1.0.1->matplotlib) (40.8.0)\n",
      "Collecting git+git://github.com/veeresht/CommPy.git@master\n",
      "  Cloning git://github.com/veeresht/CommPy.git (to revision master) to /tmp/pip-req-build-i4enm923\n",
      "  Running command git clone -q git://github.com/veeresht/CommPy.git /tmp/pip-req-build-i4enm923\n",
      "Requirement already satisfied (use --upgrade to upgrade): scikit-commpy==0.3.0 from git+git://github.com/veeresht/CommPy.git@master in /home/eric/.local/lib/python3.6/site-packages\n",
      "Requirement already satisfied: numpy in /home/eric/.local/lib/python3.6/site-packages (from scikit-commpy==0.3.0) (1.16.2)\n",
      "Requirement already satisfied: scipy in /home/eric/.local/lib/python3.6/site-packages (from scikit-commpy==0.3.0) (1.2.1)\n",
      "Requirement already satisfied: matplotlib in /home/eric/.local/lib/python3.6/site-packages (from scikit-commpy==0.3.0) (3.0.3)\n",
      "Requirement already satisfied: cycler>=0.10 in /home/eric/.local/lib/python3.6/site-packages (from matplotlib->scikit-commpy==0.3.0) (0.10.0)\n",
      "Requirement already satisfied: pyparsing!=2.0.4,!=2.1.2,!=2.1.6,>=2.0.1 in /home/eric/.local/lib/python3.6/site-packages (from matplotlib->scikit-commpy==0.3.0) (2.4.0)\n",
      "Requirement already satisfied: kiwisolver>=1.0.1 in /home/eric/.local/lib/python3.6/site-packages (from matplotlib->scikit-commpy==0.3.0) (1.0.1)\n",
      "Requirement already satisfied: python-dateutil>=2.1 in /home/eric/.local/lib/python3.6/site-packages (from matplotlib->scikit-commpy==0.3.0) (2.8.0)\n",
      "Requirement already satisfied: six in /home/eric/.local/lib/python3.6/site-packages (from cycler>=0.10->matplotlib->scikit-commpy==0.3.0) (1.12.0)\n",
      "Requirement already satisfied: setuptools in /usr/local/lib/python3.6/dist-packages (from kiwisolver>=1.0.1->matplotlib->scikit-commpy==0.3.0) (40.8.0)\n",
      "Building wheels for collected packages: scikit-commpy\n",
      "  Building wheel for scikit-commpy (setup.py) ... \u001b[?25ldone\n",
      "\u001b[?25h  Stored in directory: /tmp/pip-ephem-wheel-cache-1mcisf_3/wheels/d1/6a/31/8ddc70e8eb8a1c3ad344032ed43b4ebfccc41007e8850226d0\n",
      "Successfully built scikit-commpy\n",
      "================== DONE ! ==================\n"
     ]
    }
   ],
   "source": [
    "# Install libraries :\n",
    "!pip3 install --user --upgrade pip\n",
    "!pip3 install --user scipy matplotlib matplotlib2tikz torch\n",
    "!pip3 install --user git+git://github.com/veeresht/CommPy.git@master\n",
    "print(\"================== DONE ! ==================\")"
   ]
  },
  {
   "cell_type": "code",
   "execution_count": 2,
   "metadata": {},
   "outputs": [],
   "source": [
    "## To modify the code while running the notebook whitout any restart\n",
    "%load_ext autoreload\n",
    "%autoreload 2"
   ]
  },
  {
   "cell_type": "code",
   "execution_count": 3,
   "metadata": {
    "colab": {},
    "colab_type": "code",
    "id": "Ka8RHlvyKLf9",
    "pycharm": {}
   },
   "outputs": [],
   "source": [
    "from __future__ import print_function\n",
    "\n",
    "# Numpy\n",
    "import numpy as np\n",
    "np.set_printoptions(precision=2)\n",
    "\n",
    "# For DL libraries \n",
    "import torch\n",
    "import torch.nn as nn\n",
    "import torch.nn.functional as F\n",
    "\n",
    "# Set the use of device which will be used \n",
    "if torch.cuda.is_available():\n",
    "    device = torch.device('cuda')\n",
    "    FloatTensor = torch.cuda.FloatTensor\n",
    "else:\n",
    "    device = torch.device('cpu')\n",
    "    FloatTensor = torch.FloatTensor\n"
   ]
  },
  {
   "cell_type": "markdown",
   "metadata": {},
   "source": [
    "The next cell handles simulation for a standard MMSE/ZF OFDM scheme. \"simulation_param_dict\" is the dictionary which will handles the simulations parameters. \n",
    "\n",
    "Nota : It is important to take time in order to set every parameter as wanted even \"channel_type\" because the output file of performances will be named depending on those parameters. So if some file already exist with the same name, it will overwrite them."
   ]
  },
  {
   "cell_type": "code",
   "execution_count": null,
   "metadata": {},
   "outputs": [],
   "source": [
    "# Launch simulation\n",
    "from MonteCarlo import *\n",
    "\n",
    "simulation_param_dict = {\n",
    "    \"m_c_parameters\": {\n",
    "        \"min_error_frame\": 100,\n",
    "        \"targeted_fer\": 1e-2,\n",
    "        \"step_db\": 2,\n",
    "        \"min_eb_n0\": 0,\n",
    "        \"max_eb_n0\": 50,\n",
    "    },\n",
    "    \"channel_parameters\": {\n",
    "        \"channel_type\": \"Proakis_C\",\n",
    "        \"non_lin_coeff\": 0,\n",
    "        \"iq_imbalance\": None,\n",
    "        \"channel_taps\": np.array([1, 2, 3, 2, 1]),\n",
    "    },\n",
    "    \"frame_length\": 256,\n",
    "    \"modulation\": {\n",
    "        \"modulation_order\": 4,\n",
    "        \"nb_carriers\": 64,\n",
    "        \"cp_length\": 8,\n",
    "        \"off_carrier\": 0,\n",
    "    },\n",
    "    \"equalizer\": \"MMSE\",\n",
    "    \"channel_coding\": {\n",
    "        \"mem_size\": np.array([2]),\n",
    "        \"g_matrix\": np.array([[0o5, 0o7]]),\n",
    "        \"rho\": 1 / 2,  #  Coding rate\n",
    "    },\n",
    "    \"pre_equalizer\": {\n",
    "        \"model_path\": None,\n",
    "        \"feed_back_freq\": 0,\n",
    "    }\n",
    "}\n",
    "\n",
    "# Launch the simulation\n",
    "monte_carlo_simulation(simulation_param_dict)"
   ]
  },
  {
   "cell_type": "raw",
   "metadata": {},
   "source": [
    "The next cell is the one which handles the data set creation for the off-line training of the Pre-Equalizer.\n",
    "The output path of the data set is displayed at the end of the creation. It can be copy-paste for the cell of the Pre-Equalizer training."
   ]
  },
  {
   "cell_type": "code",
   "execution_count": 73,
   "metadata": {},
   "outputs": [
    {
     "name": "stdout",
     "output_type": "stream",
     "text": [
      "shape comparison samples and targets (105470, 72) (105470, 72)\n",
      "Data set created at ./data_set/OFDM_non_lin_coeff_0.5_iq_im_0.5_eb_n0_50_Proakis_C.pt\n"
     ]
    }
   ],
   "source": [
    "from DataSetManager import *\n",
    "\n",
    "# Data set Creation\n",
    "data_set_generation_param_dict = {\n",
    "    \"eb_n0_db\": 50,\n",
    "    \"channel_parameters\": {\n",
    "        \"channel_type\": \"Proakis_C\",\n",
    "        \"non_lin_coeff\": 0.5,\n",
    "        \"iq_imbalance\": 0.5,\n",
    "        \"channel_taps\": np.array([1, 2, 3, 2, 1]),\n",
    "    },\n",
    "    \"frame_length\": 6000060,#2000140, # 1000040\n",
    "    \"modulation\": {\n",
    "        \"modulation_order\": 4,\n",
    "        \"nb_carriers\": 64,\n",
    "        \"cp_length\": 8,\n",
    "        \"off_carrier\": 0,\n",
    "    },\n",
    "    \"equalizer\": \"MMSE\",\n",
    "    \"channel_coding\": {\n",
    "        \"mem_size\": np.array([2]),\n",
    "        \"g_matrix\": np.array([[0o5, 0o7]]),\n",
    "        \"rho\": 1 / 2,  #  Coding rate\n",
    "    },\n",
    "}\n",
    "\n",
    "create_data_set(data_set_generation_param_dict)"
   ]
  },
  {
   "cell_type": "code",
   "execution_count": 74,
   "metadata": {},
   "outputs": [
    {
     "name": "stdout",
     "output_type": "stream",
     "text": [
      "Splitting of data set: \n",
      "\tTraining set size : 84376/105470 \n",
      "\tValidation set size : 10547/105470 \n",
      "\tTest set size : 10547/105470\n",
      "\n",
      "Can't load ./models/pre_eq_model_proakis_C_50dB.pth => Generate a new model\n",
      "\n",
      "Epoch 500/500; training MSE : 0.000634589116089046; validation MSE : 0.0006399268750101328"
     ]
    },
    {
     "data": {
      "image/png": "[encoded data removed]",
      "text/plain": [
       "<Figure size 432x288 with 1 Axes>"
      ]
     },
     "metadata": {
      "needs_background": "light"
     },
     "output_type": "display_data"
    },
    {
     "name": "stdout",
     "output_type": "stream",
     "text": [
      "Performances of the training saved at ./models/pre_eq_model_proakis_C_50dB_training_perf.pickle\n"
     ]
    }
   ],
   "source": [
    "#  Train the NN-prequlizer\n",
    "from PreEqualizer import *\n",
    "from DataSetManager import *\n",
    "from torch.utils.data import DataLoader\n",
    "\n",
    "# Load the data set\n",
    "data_set = OFDMSamplesDataset(\n",
    "    \"./data_set/OFDM_non_lin_coeff_0.5_iq_im_0.5_eb_n0_50_Proakis_C.pt\"\n",
    "    #\"./data_set/OFDM_non_lin_coeff_0.5_iq_im_0.5_eb_n0_25_Proakis_C.pt\",\n",
    "    #\"./data_set/OFDM_non_lin_coeff_0.5_iq_im_0.5_eb_n0_40_Proakis_C.pt\",\n",
    "    #\"./data_set/OFDM_non_lin_coeff_0.5_iq_im_0.5_eb_n0_30_Proakis_C.pt\"\n",
    "    # \"./data_set/OFDM_non_lin_coeff_0.5_iq_im_0.5_eb_n0_20_Proakis_C.pt\"\n",
    "    # \"./data_set/OFDM_non_lin_coeff_0.5_iq_im_0.5_eb_n0_15_Proakis_C.pt\"\n",
    "    #\"./data_set/OFDM_non_lin_coeff_0.5_iq_im_0.5_eb_n0_10_Proakis_C.pt\"\n",
    ")\n",
    "\n",
    "\n",
    "# Spliting policies\n",
    "training_size = int(0.8 * len(data_set))\n",
    "validation_size = int(0.1 * len(data_set))\n",
    "test_size = int(0.1 * len(data_set))\n",
    "\n",
    "print(\n",
    "    \"Splitting of data set: \\n\\tTraining set size : {}/{} \\n\\tValidation set size : {}/{} \\n\\tTest set size : {}/{}\\n\".format(\n",
    "        str(training_size),\n",
    "        str(len(data_set)),\n",
    "        str(validation_size),\n",
    "        str(len(data_set)),\n",
    "        str(test_size),\n",
    "        str(len(data_set)),\n",
    "    )\n",
    ")\n",
    "\n",
    "# Split data set\n",
    "training_set, validation_set, test_set = torch.utils.data.random_split(\n",
    "    data_set, [training_size, validation_size, test_size]\n",
    ")\n",
    "\n",
    "# Create a data loaders...\n",
    "batch_size_set = 10000\n",
    "nb_epochs = 500\n",
    "\n",
    "training_dataloader = DataLoader(\n",
    "    dataset=training_set, batch_size=batch_size_set, shuffle=False\n",
    ")\n",
    "validation_dataloader = DataLoader(\n",
    "    dataset=validation_set, batch_size=batch_size_set, shuffle=False\n",
    ")\n",
    "\n",
    "# Creation of the PreEqualizer\n",
    "model_path = \"./models/pre_eq_model_proakis_C_50dB.pth\"\n",
    "path_training = \"./models/pre_eq_model_proakis_C_50dB_training_perf.pickle\"\n",
    "\n",
    "pre_eq = PreEqualizer(data_set.get_number_of_carriers())\n",
    "\n",
    "try:\n",
    "    pre_eq.load_state_dict(torch.load(model_path))\n",
    "except:\n",
    "    print(\"Can't load {} => Generate a new model\\n\".format(model_path))\n",
    "\n",
    "# Train the Pre-Equalizer in standalone mode\n",
    "PreEqualizer.train(\n",
    "    pre_eq,\n",
    "    training_dataloader,\n",
    "    validation_dataloader,\n",
    "    nb_epochs=nb_epochs,\n",
    "    path_training=path_training,\n",
    "    sgd_step=0.001,\n",
    ")\n",
    "\n",
    "# Save the model after training\n",
    "torch.save(pre_eq.state_dict(), model_path)"
   ]
  },
  {
   "cell_type": "code",
   "execution_count": 71,
   "metadata": {},
   "outputs": [
    {
     "name": "stdout",
     "output_type": "stream",
     "text": [
      "Can't load ./models/pre_eq_model_proakis_C_10_25_40dB_training_perf.pickle => Generate a new model (random)\n",
      "Results will be printed in :  ./results/OFDM_eq_MMSE_coding_0.5_Proakis_C_non_lin_coeff_0.5_iq_im_0.5_snr_0_to_50_step_2_pre_equalizer_update_0_train_10_25_40dB.pickle\n",
      "At  0.0  % , BER =  0.4580078125 , FER =  1.0  for  Eb/N0 =  0  dB , SNR =  0.0 dB  nb_tries =  100\n",
      "At  4.0  % , BER =  0.41828125 , FER =  1.0  for  Eb/N0 =  2  dB , SNR =  2.0 dB  nb_tries =  100\n",
      "At  8.0  % , BER =  0.3746875 , FER =  1.0  for  Eb/N0 =  4  dB , SNR =  4.0 dB  nb_tries =  100\n",
      "At  12.0  % , BER =  0.339765625 , FER =  1.0  for  Eb/N0 =  6  dB , SNR =  6.0 dB  nb_tries =  100\n",
      "At  16.0  % , BER =  0.28640625 , FER =  1.0  for  Eb/N0 =  8  dB , SNR =  8.0 dB  nb_tries =  100\n",
      "At  20.0  % , BER =  0.265234375 , FER =  1.0  for  Eb/N0 =  10  dB , SNR =  10.0 dB  nb_tries =  100\n",
      "At  24.0  % , BER =  0.24296875 , FER =  1.0  for  Eb/N0 =  12  dB , SNR =  12.0 dB  nb_tries =  100\n",
      "At  28.0  % , BER =  0.2478125 , FER =  1.0  for  Eb/N0 =  14  dB , SNR =  14.0 dB  nb_tries =  100\n",
      "At  32.0  % , BER =  0.2415234375 , FER =  1.0  for  Eb/N0 =  16  dB , SNR =  16.0 dB  nb_tries =  100\n",
      "At  36.0  % , BER =  0.2450390625 , FER =  1.0  for  Eb/N0 =  18  dB , SNR =  18.0 dB  nb_tries =  100\n",
      "At  40.0  % , BER =  0.246640625 , FER =  1.0  for  Eb/N0 =  20  dB , SNR =  20.0 dB  nb_tries =  100\n",
      "At  44.0  % , BER =  0.2431640625 , FER =  1.0  for  Eb/N0 =  22  dB , SNR =  22.0 dB  nb_tries =  100\n",
      "At  48.0  % , BER =  0.2483203125 , FER =  1.0  for  Eb/N0 =  24  dB , SNR =  24.0 dB  nb_tries =  100\n",
      "At  52.0  % , BER =  0.2451171875 , FER =  1.0  for  Eb/N0 =  26  dB , SNR =  26.0 dB  nb_tries =  100\n",
      "At  56.0  % , BER =  0.243828125 , FER =  1.0  for  Eb/N0 =  28  dB , SNR =  28.0 dB  nb_tries =  100\n",
      "At  60.0  % , BER =  0.24109375 , FER =  1.0  for  Eb/N0 =  30  dB , SNR =  30.0 dB  nb_tries =  100\n",
      "At  64.0  % , BER =  0.2458984375 , FER =  1.0  for  Eb/N0 =  32  dB , SNR =  32.0 dB  nb_tries =  100\n",
      "At  68.0  % , BER =  0.243515625 , FER =  1.0  for  Eb/N0 =  34  dB , SNR =  34.0 dB  nb_tries =  100\n",
      "At  72.0  % , BER =  0.2485546875 , FER =  1.0  for  Eb/N0 =  36  dB , SNR =  36.0 dB  nb_tries =  100\n",
      "At  76.0  % , BER =  0.2481640625 , FER =  1.0  for  Eb/N0 =  38  dB , SNR =  38.0 dB  nb_tries =  100\n",
      "At  80.0  % , BER =  0.24703125 , FER =  1.0  for  Eb/N0 =  40  dB , SNR =  40.0 dB  nb_tries =  100\n",
      "At  84.0  % , BER =  0.2449609375 , FER =  1.0  for  Eb/N0 =  42  dB , SNR =  42.0 dB  nb_tries =  100\n",
      "At  88.0  % , BER =  0.2476953125 , FER =  1.0  for  Eb/N0 =  44  dB , SNR =  44.0 dB  nb_tries =  100\n",
      "At  92.0  % , BER =  0.2434375 , FER =  1.0  for  Eb/N0 =  46  dB , SNR =  46.0 dB  nb_tries =  100\n",
      "At  96.0  % , BER =  0.238671875 , FER =  1.0  for  Eb/N0 =  48  dB , SNR =  48.0 dB  nb_tries =  100\n"
     ]
    },
    {
     "data": {
      "image/png": "[encoded data removed]",
      "text/plain": [
       "<Figure size 432x288 with 1 Axes>"
      ]
     },
     "metadata": {
      "needs_background": "light"
     },
     "output_type": "display_data"
    },
    {
     "name": "stderr",
     "output_type": "stream",
     "text": [
      "/home/eric/.local/lib/python3.6/site-packages/matplotlib/axes/_base.py:3507: UserWarning: Attempting to set identical bottom==top results\n",
      "in singular transformations; automatically expanding.\n",
      "bottom=1.0, top=1.0\n",
      "  self.set_ylim(upper, lower, auto=None)\n"
     ]
    },
    {
     "data": {
      "image/png": "[encoded data removed]",
      "text/plain": [
       "<Figure size 432x288 with 1 Axes>"
      ]
     },
     "metadata": {
      "needs_background": "light"
     },
     "output_type": "display_data"
    }
   ],
   "source": [
    "# Launch simulation\n",
    "from MonteCarlo import *\n",
    "\n",
    "# Model loading\n",
    "model_path = \"./models/pre_eq_model_proakis_C_10_25_40dB_training_perf.pickle\"\n",
    "#\"./models/pre_eq_model_proakis_C_25_40dB.pth\"\n",
    "#\"./models/pre_eq_model_proakis_C_25dB.pth\"\n",
    "#\"./models/pre_eq_model_proakis_C_40dB.pth\"\n",
    "#\"./models/pre_eq_model_proakis_C_30dB.pth\"\n",
    "#\"./models/pre_eq_model_proakis_C_20dB.pth\"\n",
    "#\"./models/pre_eq_model_proakis_C_15dB.pth\"\n",
    "#\"./models/pre_eq_model_proakis_C.pth\"\n",
    "#\"./models/pre_eq_model.pth\"\n",
    "\n",
    "simulation_param_dict = {\n",
    "    \"m_c_parameters\": {\n",
    "        \"min_error_frame\": 100,\n",
    "        \"targeted_fer\": 1e-2,\n",
    "        \"step_db\": 2,\n",
    "        \"min_eb_n0\": 0,\n",
    "        \"max_eb_n0\": 50,\n",
    "    },\n",
    "    \"channel_parameters\": {\n",
    "        \"channel_type\": \"Proakis_C\",\n",
    "        \"non_lin_coeff\": 0.5,\n",
    "        \"iq_imbalance\": 0.5,\n",
    "        \"channel_taps\": np.array([1, 2, 3, 2, 1]),\n",
    "    },\n",
    "    \"frame_length\": 256,\n",
    "    \"modulation\": {\n",
    "        \"modulation_order\": 4,\n",
    "        \"nb_carriers\": 64,\n",
    "        \"cp_length\": 8,\n",
    "        \"off_carrier\": 0,\n",
    "    },\n",
    "    \"equalizer\": \"MMSE\",\n",
    "    \"channel_coding\": {\n",
    "        \"mem_size\": np.array([2]),\n",
    "        \"g_matrix\": np.array([[0o5, 0o7]]),\n",
    "        \"rho\": 1 / 2,  #  Coding rate\n",
    "    },\n",
    "    \"pre_equalizer\": {\n",
    "        \"model_path\": model_path,\n",
    "        \"feed_back_freq\": 0,\n",
    "    }\n",
    "}\n",
    "\n",
    "# Launch the simulation\n",
    "monte_carlo_simulation(simulation_param_dict, \"train_10_25_40dB\")"
   ]
  },
  {
   "cell_type": "markdown",
   "metadata": {},
   "source": [
    "The next cell handle the display of the different results : Performances while training and performances comparison over AWGN and Proakis C channel."
   ]
  },
  {
   "cell_type": "code",
   "execution_count": 11,
   "metadata": {},
   "outputs": [
    {
     "data": {
      "image/png": "[encoded data removed]",
      "text/plain": [
       "<Figure size 720x360 with 1 Axes>"
      ]
     },
     "metadata": {
      "needs_background": "light"
     },
     "output_type": "display_data"
    },
    {
     "ename": "TypeError",
     "evalue": "load_results() takes 1 positional argument but 2 were given",
     "output_type": "error",
     "traceback": [
      "\u001b[0;31m---------------------------------------------------------------------------\u001b[0m",
      "\u001b[0;31mTypeError\u001b[0m                                 Traceback (most recent call last)",
      "\u001b[0;32m<ipython-input-11-c94c2ef64384>\u001b[0m in \u001b[0;36m<module>\u001b[0;34m\u001b[0m\n\u001b[1;32m     37\u001b[0m \u001b[0;31m# Load validation and training performances : AWGN\u001b[0m\u001b[0;34m\u001b[0m\u001b[0;34m\u001b[0m\u001b[0;34m\u001b[0m\u001b[0m\n\u001b[1;32m     38\u001b[0m \u001b[0moutput_path_training\u001b[0m \u001b[0;34m=\u001b[0m \u001b[0;34m\"./results/figures/pre_eq_model_train_AWGN.tex\"\u001b[0m\u001b[0;34m\u001b[0m\u001b[0;34m\u001b[0m\u001b[0m\n\u001b[0;32m---> 39\u001b[0;31m \u001b[0mperf_epochs\u001b[0m \u001b[0;34m=\u001b[0m \u001b[0mload_results\u001b[0m\u001b[0;34m(\u001b[0m\u001b[0;34m\"./models/pre_eq_model_training_perf.pickle\"\u001b[0m\u001b[0;34m,\u001b[0m \u001b[0;34m\" 10 dB\"\u001b[0m\u001b[0;34m)\u001b[0m\u001b[0;34m\u001b[0m\u001b[0;34m\u001b[0m\u001b[0m\n\u001b[0m\u001b[1;32m     40\u001b[0m \u001b[0mplot_training_performances\u001b[0m\u001b[0;34m(\u001b[0m\u001b[0mperf_epochs\u001b[0m\u001b[0;34m,\u001b[0m \u001b[0moutput_path\u001b[0m\u001b[0;34m=\u001b[0m\u001b[0moutput_path_training\u001b[0m\u001b[0;34m)\u001b[0m\u001b[0;34m\u001b[0m\u001b[0;34m\u001b[0m\u001b[0m\n\u001b[1;32m     41\u001b[0m \u001b[0;34m\u001b[0m\u001b[0m\n",
      "\u001b[0;31mTypeError\u001b[0m: load_results() takes 1 positional argument but 2 were given"
     ]
    }
   ],
   "source": [
    "#  Print of performances\n",
    "from Utils import *\n",
    "import matplotlib2tikz\n",
    "\n",
    "# Plot AWGN\n",
    "res_MMSE = load_results(\n",
    "    \"./results/OFDM_eq_MMSE_coding_0.5_AWGN_non_lin_coeff_0.5\"\n",
    "    + \"_iq_im_0.5_snr_0_to_50_step_2_.pickle\"\n",
    ")\n",
    "res_ZF = load_results(\n",
    "    \"./results/OFDM_eq_ZF_coding_0.5_AWGN_non_lin_coeff_0.5\"\n",
    "    + \"_iq_im_0.5_snr_0_to_50_step_2_.pickle\"\n",
    ")\n",
    "res_ZF_pre_eq = load_results(\n",
    "    \"./results/OFDM_eq_ZF_coding_0.5_AWGN_non_lin_coeff_0.5\"\n",
    "    + \"_iq_im_0.5_snr_0_to_30_step_2_pre_equalizer_update_0.pickle\"\n",
    ")\n",
    "res_MMSE_pre_eq = load_results(\n",
    "    \"./results/OFDM_eq_MMSE_coding_0.5_AWGN_non_lin_coeff_0.5\"\n",
    "    + \"_iq_im_0.5_snr_0_to_30_step_2_pre_equalizer_update_0.pickle\"\n",
    ")\n",
    "\n",
    "# Plot perfoamnces AWGN\n",
    "output_path_performances = \"./results/figures/AWGN_performances.tex\"\n",
    "plot_performance(\n",
    "    [res_ZF, res_MMSE, res_ZF_pre_eq, res_MMSE_pre_eq],\n",
    "    [\n",
    "        \"standard\",\n",
    "        \"standard\",\n",
    "        \"trained : AWGN 10dB\",\n",
    "        \"trained : AWGN 10dB\",\n",
    "    ],\n",
    "    output_path=output_path_performances,\n",
    "    max_eb_n0=20,\n",
    ")\n",
    "\n",
    "# Load validation and training performances : AWGN\n",
    "output_path_training = \"./results/figures/pre_eq_model_train_AWGN.tex\"\n",
    "perf_epochs = load_results(\"./models/pre_eq_model_training_perf.pickle\")\n",
    "plot_training_performances(perf_epochs, \"10 dB\", output_path=output_path_training)\n",
    "\n",
    "# Load validation and training performances : Proakis C 10dB\n",
    "output_path_training = \"./results/figures/pre_eq_model_train_proakis_C_10dB.tex\"\n",
    "perf_epochs = load_results(\"./models/pre_eq_model_proakis_C_training_perf.pickle\")\n",
    "plot_training_performances(perf_epochs, \"10 dB\", output_path=output_path_training)\n",
    "\n",
    "# Load validation and training performances : Proakis C 15dB\n",
    "output_path_training = \"./results/figures/pre_eq_model_train_proakis_C_15dB.tex\"\n",
    "perf_epochs = load_results(\"./models/pre_eq_model_proakis_C_15dB_training_perf.pickle\")\n",
    "plot_training_performances(perf_epochs, \"15 dB\", output_path=output_path_training)\n",
    "\n",
    "# Load validation and training performances : Proakis C 20dB\n",
    "output_path_training = \"./results/figures/pre_eq_model_train_proakis_C_20dB.tex\"\n",
    "perf_epochs = load_results(\"./models/pre_eq_model_proakis_C_20dB_training_perf.pickle\")\n",
    "plot_training_performances(perf_epochs, \"20 dB\", output_path=output_path_training)\n",
    "\n",
    "# Load validation and training performances : Proakis C 25dB\n",
    "output_path_training = \"./results/figures/pre_eq_model_train_proakis_C_25dB.tex\"\n",
    "perf_epochs = load_results(\"./models/pre_eq_model_proakis_C_25dB_training_perf.pickle\")\n",
    "plot_training_performances(perf_epochs, \"25 dB\", output_path=output_path_training)\n",
    "\n",
    "# Load validation and training performances : Proakis C 30dB\n",
    "output_path_training = \"./results/figures/pre_eq_model_train_proakis_C_30dB.tex\"\n",
    "perf_epochs = load_results(\"./models/pre_eq_model_proakis_C_30dB_training_perf.pickle\")\n",
    "plot_training_performances(perf_epochs, \"30 dB\", output_path=output_path_training)\n",
    "\n",
    "# Load validation and training performances : Proakis C 40dB\n",
    "output_path_training = \"./results/figures/pre_eq_model_train_proakis_C_40dB.tex\"\n",
    "perf_epochs = load_results(\"./models/pre_eq_model_proakis_C_40dB_training_perf.pickle\")\n",
    "plot_training_performances(perf_epochs, \"40 dB\", output_path=output_path_training)\n",
    "\n",
    "\n",
    "# Load validation and training performances : Proakis C 25 and 40dB\n",
    "output_path_training = \"./results/figures/pre_eq_model_train_proakis_C_25_40dB.tex\"\n",
    "perf_epochs = load_results(\n",
    "    \"./models/pre_eq_model_proakis_C_25_40dB_training_perf.pickle\"\n",
    ")\n",
    "plot_training_performances(perf_epochs, \"25, 40 dB\", output_path=output_path_training)\n",
    "\n",
    "# Load validation and training performances : Proakis C 10, 25 and 40dB\n",
    "output_path_training = \"./results/figures/pre_eq_model_train_proakis_C_10_25_40dB.tex\"\n",
    "perf_epochs = load_results(\n",
    "    \"./models/pre_eq_model_proakis_C_10_25_40dB_training_perf.pickle\"\n",
    ")\n",
    "plot_training_performances(perf_epochs, \"10, 25, 40 dB\", output_path=output_path_training)\n",
    "\n",
    "\n",
    "# Plot Proakis C\n",
    "output_path_performances = \"./results/figures/Proakis_C_performances.tex\"\n",
    "res_MMSE_pro = load_results(\n",
    "    \"./results/OFDM_eq_MMSE_coding_0.5_Proakis_C_non_lin_coeff_0\"\n",
    "    + \"_iq_im_None_snr_0_to_50_step_2_.pickle\"\n",
    ")\n",
    "res_MMSE_pro_pre_eq = load_results(\n",
    "    \"./results/OFDM_eq_MMSE_coding_0.5_Proakis_C_non_lin_coeff_0.5\"\n",
    "    + \"_iq_im_0.5_snr_0_to_50_step_2_pre_equalizer_update_0.pickle\"\n",
    ")\n",
    "\n",
    "res_MMSE_pro_pre_eq_15dB = load_results(\n",
    "    \"./results/OFDM_eq_MMSE_coding_0.5_Proakis_C_non_lin_coeff_0.5\"\n",
    "    + \"_iq_im_0.5_snr_0_to_50_step_2_pre_equalizer_update_0_train_15dB.pickle\"\n",
    ")\n",
    "\n",
    "res_MMSE_pro_pre_eq_20dB = load_results(\n",
    "    \"./results/OFDM_eq_MMSE_coding_0.5_Proakis_C_non_lin_coeff_0.5\"\n",
    "    + \"_iq_im_0.5_snr_0_to_50_step_2_pre_equalizer_update_0_train_20dB.pickle\"\n",
    ")\n",
    "\n",
    "res_MMSE_pro_pre_eq_25dB = load_results(\n",
    "    \"./results/OFDM_eq_MMSE_coding_0.5_Proakis_C_non_lin_coeff_0.5\"\n",
    "    + \"_iq_im_0.5_snr_0_to_50_step_2_pre_equalizer_update_0_train_25dB.pickle\"\n",
    ")\n",
    "\n",
    "res_MMSE_pro_pre_eq_30dB = load_results(\n",
    "    \"./results/OFDM_eq_MMSE_coding_0.5_Proakis_C_non_lin_coeff_0.5\"\n",
    "    + \"_iq_im_0.5_snr_0_to_50_step_2_pre_equalizer_update_0_train_30dB.pickle\"\n",
    ")\n",
    "\n",
    "res_MMSE_pro_pre_eq_40dB = load_results(\n",
    "    \"./results/OFDM_eq_MMSE_coding_0.5_Proakis_C_non_lin_coeff_0.5\"\n",
    "    + \"_iq_im_0.5_snr_0_to_50_step_2_pre_equalizer_update_0_train_40dB.pickle\"\n",
    ")\n",
    "\n",
    "\n",
    "res_MMSE_pro_pre_eq_25_40dB = load_results(\n",
    "    \"./results/OFDM_eq_MMSE_coding_0.5_Proakis_C_non_lin_coeff_0.5\"\n",
    "    + \"_iq_im_0.5_snr_0_to_50_step_2_pre_equalizer_update_0_train_25_40dB.pickle\"\n",
    ")\n",
    "\n",
    "res_MMSE_pro_pre_eq_10_25_40dB = load_results(\n",
    "    \"./results/OFDM_eq_MMSE_coding_0.5_Proakis_C_non_lin_coeff_0.5\"\n",
    "    + \"_iq_im_0.5_snr_0_to_50_step_2_pre_equalizer_update_0_train_10_25_40dB.pickle\"\n",
    ")\n",
    "\n",
    "res_MMSE_pro_pre_eq_awgn_10dB = load_results(\n",
    "    \"./results/OFDM_eq_MMSE_coding_0.5_Proakis_C_non_lin_coeff_0.5\"\n",
    "    + \"_iq_im_0.5_snr_0_to_50_step_2_pre_equalizer_update_0_train_awgn_10dB.pickle\"\n",
    ")\n",
    "\n",
    "\n",
    "plot_performance(\n",
    "    [\n",
    "        res_MMSE_pro,\n",
    "        res_MMSE_pro_pre_eq,\n",
    "        res_MMSE_pro_pre_eq_15dB,\n",
    "        res_MMSE_pro_pre_eq_20dB,\n",
    "        res_MMSE_pro_pre_eq_25dB,\n",
    "        res_MMSE_pro_pre_eq_30dB,\n",
    "        res_MMSE_pro_pre_eq_40dB,\n",
    "        res_MMSE_pro_pre_eq_25_40dB,\n",
    "        res_MMSE_pro_pre_eq_10_25_40dB,\n",
    "        res_MMSE_pro_pre_eq_awgn_10dB,\n",
    "    ],\n",
    "    [\n",
    "        \"standard\",\n",
    "        \"trained : Proakis C 10 dB\",\n",
    "        \"trained : Proakis C 15 dB\",\n",
    "        \"trained : Proakis C 20 dB\",\n",
    "        \"trained : Proakis C 25 dB\",\n",
    "        \"trained : Proakis C 30 dB\",\n",
    "        \"trained : Proakis C 40 dB\",\n",
    "        \"trained : Proakis C 25, 40 dB\",\n",
    "        \"trained : Proakis C 10, 25, 40 dB\",\n",
    "        \"trained : AWGN 10 dB\",   \n",
    "    ],\n",
    "    output_path=output_path_performances,\n",
    ")"
   ]
  }
 ],
 "metadata": {
  "accelerator": "GPU",
  "colab": {
   "collapsed_sections": [],
   "name": "online_label_recovery.ipynb",
   "provenance": [],
   "version": "0.3.2"
  },
  "kernelspec": {
   "display_name": "Python 3",
   "language": "python",
   "name": "python3"
  },
  "language_info": {
   "codemirror_mode": {
    "name": "ipython",
    "version": 3
   },
   "file_extension": ".py",
   "mimetype": "text/x-python",
   "name": "python",
   "nbconvert_exporter": "python",
   "pygments_lexer": "ipython3",
   "version": "3.6.7"
  }
 },
 "nbformat": 4,
 "nbformat_minor": 2
}

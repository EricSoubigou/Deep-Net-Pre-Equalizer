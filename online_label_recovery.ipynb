{
 "cells": [
  {
   "cell_type": "markdown",
   "metadata": {
    "colab_type": "text",
    "id": "JmRsVJrvJD6-",
    "pycharm": {}
   },
   "source": [
    "-------------------------------------------------------------------------------------------------------------------\n",
    "Implementation of : \"Online Label Recovery for Deep Learning-based communication through Error Correcting codes\"\n",
    "\n",
    "Author : Eric Soubigou\n",
    "\n",
    "Date : Spring 2019\n",
    "\n",
    "-------------------------------------------------------------------------------------------------------------------\n",
    "\n",
    "Description :  Creation of a DFE like with Deep Learning technologies"
   ]
  },
  {
   "cell_type": "code",
   "execution_count": 1,
   "metadata": {
    "colab": {
     "base_uri": "https://localhost:8080/",
     "height": 343
    },
    "colab_type": "code",
    "id": "qJ7p4pjiP3ak",
    "outputId": "8a04c1d7-1857-4441-b539-2bac38b68076",
    "pycharm": {}
   },
   "outputs": [
    {
     "name": "stdout",
     "output_type": "stream",
     "text": [
      "Collecting git+git://github.com/veeresht/CommPy.git@master\n",
      "  Cloning git://github.com/veeresht/CommPy.git (to revision master) to /tmp/pip-req-build-gt688dwr\n",
      "Requirement already satisfied (use --upgrade to upgrade): scikit-commpy==0.3.0 from git+git://github.com/veeresht/CommPy.git@master in /home/eric/.local/lib/python3.6/site-packages\n",
      "Requirement already satisfied: numpy in /home/eric/.local/lib/python3.6/site-packages (from scikit-commpy==0.3.0) (1.16.2)\n",
      "Requirement already satisfied: scipy in /home/eric/.local/lib/python3.6/site-packages (from scikit-commpy==0.3.0) (1.2.1)\n",
      "Requirement already satisfied: matplotlib in /home/eric/.local/lib/python3.6/site-packages (from scikit-commpy==0.3.0) (3.0.3)\n",
      "Requirement already satisfied: cycler>=0.10 in /home/eric/.local/lib/python3.6/site-packages (from matplotlib->scikit-commpy==0.3.0) (0.10.0)\n",
      "Requirement already satisfied: pyparsing!=2.0.4,!=2.1.2,!=2.1.6,>=2.0.1 in /home/eric/.local/lib/python3.6/site-packages (from matplotlib->scikit-commpy==0.3.0) (2.3.1)\n",
      "Requirement already satisfied: python-dateutil>=2.1 in /home/eric/.local/lib/python3.6/site-packages (from matplotlib->scikit-commpy==0.3.0) (2.8.0)\n",
      "Requirement already satisfied: kiwisolver>=1.0.1 in /home/eric/.local/lib/python3.6/site-packages (from matplotlib->scikit-commpy==0.3.0) (1.0.1)\n",
      "Requirement already satisfied: six in /usr/lib/python3/dist-packages (from cycler>=0.10->matplotlib->scikit-commpy==0.3.0) (1.11.0)\n",
      "Requirement already satisfied: setuptools in /usr/local/lib/python3.6/dist-packages (from kiwisolver>=1.0.1->matplotlib->scikit-commpy==0.3.0) (40.8.0)\n",
      "Building wheels for collected packages: scikit-commpy\n",
      "  Building wheel for scikit-commpy (setup.py) ... \u001b[?25ldone\n",
      "\u001b[?25h  Stored in directory: /tmp/pip-ephem-wheel-cache-923ei1hu/wheels/d1/6a/31/8ddc70e8eb8a1c3ad344032ed43b4ebfccc41007e8850226d0\n",
      "Successfully built scikit-commpy\n",
      "Requirement already satisfied: torch in /home/eric/.local/lib/python3.6/site-packages (1.0.1.post2)\n",
      "Requirement already satisfied: matplotlib in /home/eric/.local/lib/python3.6/site-packages (3.0.3)\n",
      "Requirement already satisfied: cycler>=0.10 in /home/eric/.local/lib/python3.6/site-packages (from matplotlib) (0.10.0)\n",
      "Requirement already satisfied: numpy>=1.10.0 in /home/eric/.local/lib/python3.6/site-packages (from matplotlib) (1.16.2)\n",
      "Requirement already satisfied: kiwisolver>=1.0.1 in /home/eric/.local/lib/python3.6/site-packages (from matplotlib) (1.0.1)\n",
      "Requirement already satisfied: python-dateutil>=2.1 in /home/eric/.local/lib/python3.6/site-packages (from matplotlib) (2.8.0)\n",
      "Requirement already satisfied: pyparsing!=2.0.4,!=2.1.2,!=2.1.6,>=2.0.1 in /home/eric/.local/lib/python3.6/site-packages (from matplotlib) (2.3.1)\n",
      "Requirement already satisfied: six in /usr/lib/python3/dist-packages (from cycler>=0.10->matplotlib) (1.11.0)\n",
      "Requirement already satisfied: setuptools in /usr/local/lib/python3.6/dist-packages (from kiwisolver>=1.0.1->matplotlib) (40.8.0)\n",
      "Requirement already satisfied: scipy in /home/eric/.local/lib/python3.6/site-packages (1.2.1)\n",
      "Requirement already satisfied: numpy>=1.8.2 in /home/eric/.local/lib/python3.6/site-packages (from scipy) (1.16.2)\n",
      "================== DONE ! ==================\n"
     ]
    }
   ],
   "source": [
    "# Install libraries :\n",
    "!pip3 install --user git+git://github.com/veeresht/CommPy.git@master\n",
    "!pip3 install --user torch\n",
    "!pip3 install --user matplotlib\n",
    "!pip3 install --user scipy\n",
    "print(\"================== DONE ! ==================\")"
   ]
  },
  {
   "cell_type": "code",
   "execution_count": 2,
   "metadata": {
    "colab": {},
    "colab_type": "code",
    "id": "Ka8RHlvyKLf9",
    "pycharm": {}
   },
   "outputs": [],
   "source": [
    "## Imports\n",
    "from __future__ import print_function\n",
    "import matplotlib.pyplot as plt\n",
    "import pickle # For saving file\n",
    "import copy as cpy\n",
    "\n",
    "# Scipy\n",
    "import scipy as sp\n",
    "from scipy import signal\n",
    "\n",
    "# Numpy\n",
    "import numpy as np\n",
    "np.set_printoptions(precision=2)\n",
    "\n",
    "# Random\n",
    "import random\n",
    "\n",
    "# Compy\n",
    "from commpy.filters import *\n",
    "import commpy as cp\n",
    "## Simulation import\n",
    "from commpy.channelcoding.convcode import Trellis, conv_encode, viterbi_decode\n",
    "from commpy.modulation import *\n",
    "\n",
    "# For DL libraries \n",
    "import torch\n",
    "import torch.nn as nn\n",
    "import torch.nn.functional as F\n",
    "\n",
    "# Set the use of device which will be used \n",
    "if torch.cuda.is_available():\n",
    "    device = torch.device('cuda')\n",
    "    FloatTensor = torch.cuda.FloatTensor\n",
    "else:\n",
    "    device = torch.device('cpu')\n",
    "    FloatTensor = torch.FloatTensor\n"
   ]
  },
  {
   "cell_type": "code",
   "execution_count": null,
   "metadata": {},
   "outputs": [
    {
     "name": "stderr",
     "output_type": "stream",
     "text": [
      "/home/eric/.local/lib/python3.6/site-packages/commpy/modulation.py:77: FutureWarning: arrays to stack must be passed as a \"sequence\" type such as list or tuple. Support for non-sequence iterables such as generators is deprecated as of NumPy 1.16 and will raise an error in the future.\n",
      "  index_list))\n"
     ]
    },
    {
     "name": "stdout",
     "output_type": "stream",
     "text": [
      "At  0.0  % , BER =  0.46078125 , FER =  1.0  for  Eb/N0 =  0  dB , SNR =  0.0 dB  nb_tries =  100\n",
      "At  5.0  % , BER =  0.4122265625 , FER =  1.0  for  Eb/N0 =  2  dB , SNR =  2.0 dB  nb_tries =  100\n",
      "At  10.0  % , BER =  0.3483984375 , FER =  1.0  for  Eb/N0 =  4  dB , SNR =  4.0 dB  nb_tries =  100\n",
      "At  15.0  % , BER =  0.294765625 , FER =  1.0  for  Eb/N0 =  6  dB , SNR =  6.0 dB  nb_tries =  100\n",
      "At  20.0  % , BER =  0.24828125 , FER =  1.0  for  Eb/N0 =  8  dB , SNR =  8.0 dB  nb_tries =  100\n",
      "At  25.0  % , BER =  0.2148828125 , FER =  1.0  for  Eb/N0 =  10  dB , SNR =  10.0 dB  nb_tries =  100\n",
      "At  30.0  % , BER =  0.164453125 , FER =  1.0  for  Eb/N0 =  12  dB , SNR =  12.0 dB  nb_tries =  100\n",
      "At  35.0  % , BER =  0.1091796875 , FER =  1.0  for  Eb/N0 =  14  dB , SNR =  14.0 dB  nb_tries =  100\n",
      "At  40.0  % , BER =  0.0764453125 , FER =  1.0  for  Eb/N0 =  16  dB , SNR =  16.0 dB  nb_tries =  100\n",
      "At  45.0  % , BER =  0.0560546875 , FER =  1.0  for  Eb/N0 =  18  dB , SNR =  18.0 dB  nb_tries =  100\n",
      "At  50.0  % , BER =  0.037578125 , FER =  1.0  for  Eb/N0 =  20  dB , SNR =  20.0 dB  nb_tries =  100\n",
      "At  55.0  % , BER =  0.0259375 , FER =  1.0  for  Eb/N0 =  22  dB , SNR =  22.0 dB  nb_tries =  100\n",
      "At  60.0  % , BER =  0.015549879807692308 , FER =  0.9615384615384616  for  Eb/N0 =  24  dB , SNR =  24.0 dB  nb_tries =  104\n",
      "At  65.0  % , BER =  0.010694781553398059 , FER =  0.970873786407767  for  Eb/N0 =  26  dB , SNR =  26.0 dB  nb_tries =  103\n",
      "At  70.0  % , BER =  0.00735828488372093 , FER =  0.7751937984496124  for  Eb/N0 =  28  dB , SNR =  28.0 dB  nb_tries =  129\n",
      "At  75.0  % , BER =  0.004460841049382716 , FER =  0.6172839506172839  for  Eb/N0 =  30  dB , SNR =  30.0 dB  nb_tries =  162\n",
      "At  80.0  % , BER =  0.0013712471131639723 , FER =  0.23094688221709006  for  Eb/N0 =  32  dB , SNR =  32.0 dB  nb_tries =  433\n",
      "At  85.0  % , BER =  8.187193164652568e-05 , FER =  0.0188821752265861  for  Eb/N0 =  34  dB , SNR =  34.0 dB  nb_tries =  5296\n"
     ]
    }
   ],
   "source": [
    "# Launch simulation\n",
    "from MonteCarlo import *\n",
    "\n",
    "simulation_param_dict = {\n",
    "    \"m_c_parameters\": {\n",
    "        \"min_error_frame\": 100,\n",
    "        \"targeted_fer\": 5e-3,\n",
    "        \"step_db\": 2,\n",
    "        \"min_eb_n0\": 0,\n",
    "        \"max_eb_n0\": 40,\n",
    "    },\n",
    "    \"channel_parameters\": {\n",
    "        \"non_lin_coeff\": 0,\n",
    "        \"iq_imbalance\": None,\n",
    "        \"channel_taps\": np.array([1, 2, 3, 2, 1]),\n",
    "    },\n",
    "    \"frame_length\": 256,\n",
    "    \"modulation\": {\n",
    "        \"modulation_order\": 4,\n",
    "        \"nb_carriers\": 64,\n",
    "        \"cp_length\": 8,\n",
    "        \"off_carrier\": 0,\n",
    "    },\n",
    "    \"equalizer\": \"MMSE\",\n",
    "    \"channel_coding\": {\n",
    "        \"mem_size\": np.array([2]),\n",
    "        \"g_matrix\": np.array([[0o5, 0o7]]),\n",
    "        \"rho\": 1 / 2,  #  Coding rate\n",
    "    },\n",
    "}\n",
    "\n",
    "# Launch the simulation\n",
    "monte_carlo_simulation(simulation_param_dict)"
   ]
  },
  {
   "cell_type": "code",
   "execution_count": 5,
   "metadata": {},
   "outputs": [
    {
     "name": "stdout",
     "output_type": "stream",
     "text": [
      "[4.57e-01 4.07e-01 3.42e-01 2.95e-01 2.58e-01 2.14e-01 1.63e-01 1.14e-01\n",
      " 7.56e-02 5.46e-02 3.57e-02 2.52e-02 1.66e-02 1.02e-02 7.36e-03 4.52e-03\n",
      " 1.44e-03 7.73e-05 1.95e-07 0.00e+00]\n"
     ]
    },
    {
     "data": {
      "image/png": "[encoded data removed]",
      "text/plain": [
       "<Figure size 432x288 with 1 Axes>"
      ]
     },
     "metadata": {
      "needs_background": "light"
     },
     "output_type": "display_data"
    }
   ],
   "source": [
    "# Print of performances\n",
    "from Utils import *\n",
    "\n",
    "\n",
    "res = load_results(\"./results/OFDM_eq_MMSE_non_lin_coeff_0_iq_im_None_snr_0_to_40_step_2.pickle\")\n",
    "res_ZF = load_results(\"./results/OFDM_eq_ZF_non_lin_coeff_0_iq_im_None_snr_0_to_40_step_2.pickle\")\n",
    "\n",
    "print(res[\"results\"][\"ber\"])\n",
    "\n",
    "plt.plot(res[\"results\"][\"eb_n0_db\"], res[\"results\"][\"ber\"], \"b\")\n",
    "plt.plot(res_ZF[\"results\"][\"eb_n0_db\"], res_ZF[\"results\"][\"ber\"], \"r\")\n",
    "plt.yscale(\"log\")\n",
    "plt.title(\"BER results\")\n",
    "plt.xlabel(\"Eb/N0 (dB)\")\n",
    "plt.ylabel(\"BER\")\n",
    "plt.grid(True)\n",
    "plt.show()\n"
   ]
  },
  {
   "cell_type": "code",
   "execution_count": null,
   "metadata": {},
   "outputs": [],
   "source": [
    "# Data set Creation\n",
    "data_set_generation_param_dict = {\n",
    "    \"eb_n0_db\": 10,\n",
    "    \"channel_parameters\": {\n",
    "        \"non_lin_coeff\": 0,\n",
    "        \"iq_imbalance\": None,\n",
    "        \"channel_taps\": np.array([1, 2, 3, 2, 1]),\n",
    "    },\n",
    "    \"frame_length\": 100000,\n",
    "    \"modulation\": {\n",
    "        \"modulation_order\": 4,\n",
    "        \"nb_carriers\": 64,\n",
    "        \"cp_length\": 8,\n",
    "        \"off_carrier\": 0,\n",
    "    },\n",
    "    \"equalizer\": \"MMSE\",\n",
    "    \"channel_coding\": {\n",
    "        \"mem_size\": np.array([2]),\n",
    "        \"g_matrix\": np.array([[0o5, 0o7]]),\n",
    "        \"rho\": 1 / 2,  #  Coding rate\n",
    "    },\n",
    "}\n",
    "\n",
    "create_data_set(data_set_generation_param_dict)\n",
    "\n",
    "#########\n",
    "# Load the data set using the Dataset class\n",
    "data_set = OFDMSamplesDataset(\"./data_set/OFDM_non_lin_coeff_0_iq_im_None_eb_n0_10_proakis_C.pt\")\n",
    "\n",
    "print(data_set.get_dimensions())\n"
   ]
  },
  {
   "cell_type": "code",
   "execution_count": null,
   "metadata": {},
   "outputs": [],
   "source": [
    "# Train the NN-prequlizer\n",
    "from PreEqualizer import *\n",
    "\n",
    "\n",
    "\n"
   ]
  }
 ],
 "metadata": {
  "accelerator": "GPU",
  "colab": {
   "collapsed_sections": [],
   "name": "online_label_recovery.ipynb",
   "provenance": [],
   "version": "0.3.2"
  },
  "kernelspec": {
   "display_name": "Python 3",
   "language": "python",
   "name": "python3"
  },
  "language_info": {
   "codemirror_mode": {
    "name": "ipython",
    "version": 3
   },
   "file_extension": ".py",
   "mimetype": "text/x-python",
   "name": "python",
   "nbconvert_exporter": "python",
   "pygments_lexer": "ipython3",
   "version": "3.6.7"
  }
 },
 "nbformat": 4,
 "nbformat_minor": 2
}

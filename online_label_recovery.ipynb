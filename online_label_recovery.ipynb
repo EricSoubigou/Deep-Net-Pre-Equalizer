{
 "cells": [
  {
   "cell_type": "markdown",
   "metadata": {
    "colab_type": "text",
    "id": "JmRsVJrvJD6-",
    "pycharm": {}
   },
   "source": [
    "-------------------------------------------------------------------------------------------------------------------\n",
    "Implementation of : \"Online Label Recovery for Deep Learning-based communication through Error Correcting codes\"\n",
    "\n",
    "Author : Eric Soubigou\n",
    "\n",
    "Date : Spring 2019\n",
    "\n",
    "-------------------------------------------------------------------------------------------------------------------\n",
    "\n",
    "Description :  Creation of a DFE like with Deep Learning technologies"
   ]
  },
  {
   "cell_type": "code",
   "execution_count": 2,
   "metadata": {
    "colab": {
     "base_uri": "https://localhost:8080/",
     "height": 343
    },
    "colab_type": "code",
    "id": "qJ7p4pjiP3ak",
    "outputId": "8a04c1d7-1857-4441-b539-2bac38b68076",
    "pycharm": {}
   },
   "outputs": [
    {
     "name": "stdout",
     "output_type": "stream",
     "text": [
      "Collecting git+git://github.com/veeresht/CommPy.git@master\n",
      "  Cloning git://github.com/veeresht/CommPy.git (to revision master) to /tmp/pip-req-build-n8h7l8mh\n",
      "  Running command git clone -q git://github.com/veeresht/CommPy.git /tmp/pip-req-build-n8h7l8mh\n",
      "Requirement already satisfied (use --upgrade to upgrade): scikit-commpy==0.3.0 from git+git://github.com/veeresht/CommPy.git@master in /home/eric/.local/lib/python3.6/site-packages\n",
      "Requirement already satisfied: numpy in /home/eric/.local/lib/python3.6/site-packages (from scikit-commpy==0.3.0) (1.16.2)\n",
      "Requirement already satisfied: scipy in /home/eric/.local/lib/python3.6/site-packages (from scikit-commpy==0.3.0) (1.2.1)\n",
      "Requirement already satisfied: matplotlib in /home/eric/.local/lib/python3.6/site-packages (from scikit-commpy==0.3.0) (3.0.3)\n",
      "Requirement already satisfied: pyparsing!=2.0.4,!=2.1.2,!=2.1.6,>=2.0.1 in /home/eric/.local/lib/python3.6/site-packages (from matplotlib->scikit-commpy==0.3.0) (2.4.0)\n",
      "Requirement already satisfied: kiwisolver>=1.0.1 in /home/eric/.local/lib/python3.6/site-packages (from matplotlib->scikit-commpy==0.3.0) (1.0.1)\n",
      "Requirement already satisfied: python-dateutil>=2.1 in /home/eric/.local/lib/python3.6/site-packages (from matplotlib->scikit-commpy==0.3.0) (2.8.0)\n",
      "Requirement already satisfied: cycler>=0.10 in /home/eric/.local/lib/python3.6/site-packages (from matplotlib->scikit-commpy==0.3.0) (0.10.0)\n",
      "Requirement already satisfied: setuptools in /usr/local/lib/python3.6/dist-packages (from kiwisolver>=1.0.1->matplotlib->scikit-commpy==0.3.0) (40.8.0)\n",
      "Requirement already satisfied: six>=1.5 in /home/eric/.local/lib/python3.6/site-packages (from python-dateutil>=2.1->matplotlib->scikit-commpy==0.3.0) (1.12.0)\n",
      "Building wheels for collected packages: scikit-commpy\n",
      "  Building wheel for scikit-commpy (setup.py) ... \u001b[?25ldone\n",
      "\u001b[?25h  Stored in directory: /tmp/pip-ephem-wheel-cache-pds11i24/wheels/d1/6a/31/8ddc70e8eb8a1c3ad344032ed43b4ebfccc41007e8850226d0\n",
      "Successfully built scikit-commpy\n",
      "Requirement already satisfied: torch in /home/eric/.local/lib/python3.6/site-packages (1.0.1.post2)\n",
      "Requirement already satisfied: matplotlib in /home/eric/.local/lib/python3.6/site-packages (3.0.3)\n",
      "Requirement already satisfied: python-dateutil>=2.1 in /home/eric/.local/lib/python3.6/site-packages (from matplotlib) (2.8.0)\n",
      "Requirement already satisfied: cycler>=0.10 in /home/eric/.local/lib/python3.6/site-packages (from matplotlib) (0.10.0)\n",
      "Requirement already satisfied: pyparsing!=2.0.4,!=2.1.2,!=2.1.6,>=2.0.1 in /home/eric/.local/lib/python3.6/site-packages (from matplotlib) (2.4.0)\n",
      "Requirement already satisfied: kiwisolver>=1.0.1 in /home/eric/.local/lib/python3.6/site-packages (from matplotlib) (1.0.1)\n",
      "Requirement already satisfied: numpy>=1.10.0 in /home/eric/.local/lib/python3.6/site-packages (from matplotlib) (1.16.2)\n",
      "Requirement already satisfied: six>=1.5 in /home/eric/.local/lib/python3.6/site-packages (from python-dateutil>=2.1->matplotlib) (1.12.0)\n",
      "Requirement already satisfied: setuptools in /usr/local/lib/python3.6/dist-packages (from kiwisolver>=1.0.1->matplotlib) (40.8.0)\n",
      "Requirement already satisfied: scipy in /home/eric/.local/lib/python3.6/site-packages (1.2.1)\n",
      "Requirement already satisfied: numpy>=1.8.2 in /home/eric/.local/lib/python3.6/site-packages (from scipy) (1.16.2)\n",
      "================== DONE ! ==================\n"
     ]
    }
   ],
   "source": [
    "# Install libraries :\n",
    "!pip3 install --user git+git://github.com/veeresht/CommPy.git@master\n",
    "!pip3 install --user torch\n",
    "!pip3 install --user matplotlib\n",
    "!pip3 install --user scipy\n",
    "print(\"================== DONE ! ==================\")"
   ]
  },
  {
   "cell_type": "code",
   "execution_count": 3,
   "metadata": {},
   "outputs": [],
   "source": [
    "## Imports\n",
    "%load_ext autoreload\n",
    "%autoreload 2"
   ]
  },
  {
   "cell_type": "code",
   "execution_count": 4,
   "metadata": {
    "colab": {},
    "colab_type": "code",
    "id": "Ka8RHlvyKLf9",
    "pycharm": {}
   },
   "outputs": [],
   "source": [
    "from __future__ import print_function\n",
    "import matplotlib.pyplot as plt\n",
    "import pickle # For saving file\n",
    "import copy as cpy\n",
    "\n",
    "# Scipy\n",
    "import scipy as sp\n",
    "from scipy import signal\n",
    "\n",
    "# Numpy\n",
    "import numpy as np\n",
    "np.set_printoptions(precision=2)\n",
    "\n",
    "# Random\n",
    "import random\n",
    "\n",
    "# Compy\n",
    "from commpy.filters import *\n",
    "import commpy as cp\n",
    "## Simulation import\n",
    "from commpy.channelcoding.convcode import Trellis, conv_encode, viterbi_decode\n",
    "from commpy.modulation import *\n",
    "\n",
    "# For DL libraries \n",
    "import torch\n",
    "import torch.nn as nn\n",
    "import torch.nn.functional as F\n",
    "\n",
    "# Set the use of device which will be used \n",
    "if torch.cuda.is_available():\n",
    "    device = torch.device('cuda')\n",
    "    FloatTensor = torch.cuda.FloatTensor\n",
    "else:\n",
    "    device = torch.device('cpu')\n",
    "    FloatTensor = torch.FloatTensor\n"
   ]
  },
  {
   "cell_type": "code",
   "execution_count": 3,
   "metadata": {},
   "outputs": [
    {
     "name": "stdout",
     "output_type": "stream",
     "text": [
      "rho value is  0.5\n"
     ]
    },
    {
     "name": "stderr",
     "output_type": "stream",
     "text": [
      "/home/eric/.local/lib/python3.6/site-packages/commpy/modulation.py:77: FutureWarning: arrays to stack must be passed as a \"sequence\" type such as list or tuple. Support for non-sequence iterables such as generators is deprecated as of NumPy 1.16 and will raise an error in the future.\n",
      "  index_list))\n"
     ]
    },
    {
     "ename": "KeyboardInterrupt",
     "evalue": "",
     "output_type": "error",
     "traceback": [
      "\u001b[0;31m---------------------------------------------------------------------------\u001b[0m",
      "\u001b[0;31mKeyboardInterrupt\u001b[0m                         Traceback (most recent call last)",
      "\u001b[0;32m<ipython-input-3-dc1af4819b9a>\u001b[0m in \u001b[0;36m<module>\u001b[0;34m\u001b[0m\n\u001b[1;32m     31\u001b[0m \u001b[0;34m\u001b[0m\u001b[0m\n\u001b[1;32m     32\u001b[0m \u001b[0;31m# Launch the simulation\u001b[0m\u001b[0;34m\u001b[0m\u001b[0;34m\u001b[0m\u001b[0;34m\u001b[0m\u001b[0m\n\u001b[0;32m---> 33\u001b[0;31m \u001b[0mmonte_carlo_simulation\u001b[0m\u001b[0;34m(\u001b[0m\u001b[0msimulation_param_dict\u001b[0m\u001b[0;34m)\u001b[0m\u001b[0;34m\u001b[0m\u001b[0;34m\u001b[0m\u001b[0m\n\u001b[0m",
      "\u001b[0;32m~/Documents/GT/Special_Problem/implementation/MonteCarlo.py\u001b[0m in \u001b[0;36mmonte_carlo_simulation\u001b[0;34m(sim_param_dict)\u001b[0m\n\u001b[1;32m    119\u001b[0m             \u001b[0mframe\u001b[0m \u001b[0;34m=\u001b[0m \u001b[0mnp\u001b[0m\u001b[0;34m.\u001b[0m\u001b[0mrandom\u001b[0m\u001b[0;34m.\u001b[0m\u001b[0mrandint\u001b[0m\u001b[0;34m(\u001b[0m\u001b[0;36m0\u001b[0m\u001b[0;34m,\u001b[0m \u001b[0mhigh\u001b[0m\u001b[0;34m=\u001b[0m\u001b[0;36m2\u001b[0m\u001b[0;34m,\u001b[0m \u001b[0msize\u001b[0m\u001b[0;34m=\u001b[0m\u001b[0msim_param_dict\u001b[0m\u001b[0;34m[\u001b[0m\u001b[0;34m\"frame_length\"\u001b[0m\u001b[0;34m]\u001b[0m\u001b[0;34m)\u001b[0m\u001b[0;34m\u001b[0m\u001b[0;34m\u001b[0m\u001b[0m\n\u001b[1;32m    120\u001b[0m             \u001b[0;31m# Send the frame to the physical layer\u001b[0m\u001b[0;34m\u001b[0m\u001b[0;34m\u001b[0m\u001b[0;34m\u001b[0m\u001b[0m\n\u001b[0;32m--> 121\u001b[0;31m             \u001b[0mrecieved_frame\u001b[0m \u001b[0;34m=\u001b[0m \u001b[0mphy_layer\u001b[0m\u001b[0;34m.\u001b[0m\u001b[0mprocess_frame\u001b[0m\u001b[0;34m(\u001b[0m\u001b[0mframe\u001b[0m\u001b[0;34m)\u001b[0m\u001b[0;34m\u001b[0m\u001b[0;34m\u001b[0m\u001b[0m\n\u001b[0m\u001b[1;32m    122\u001b[0m             \u001b[0;31m# Counting errors\u001b[0m\u001b[0;34m\u001b[0m\u001b[0;34m\u001b[0m\u001b[0;34m\u001b[0m\u001b[0m\n\u001b[1;32m    123\u001b[0m             \u001b[0merrors_num\u001b[0m \u001b[0;34m=\u001b[0m \u001b[0mnp\u001b[0m\u001b[0;34m.\u001b[0m\u001b[0msum\u001b[0m\u001b[0;34m(\u001b[0m\u001b[0mrecieved_frame\u001b[0m \u001b[0;34m!=\u001b[0m \u001b[0mframe\u001b[0m\u001b[0;34m)\u001b[0m\u001b[0;34m\u001b[0m\u001b[0;34m\u001b[0m\u001b[0m\n",
      "\u001b[0;32m~/Documents/GT/Special_Problem/implementation/PhyLayer.py\u001b[0m in \u001b[0;36mprocess_frame\u001b[0;34m(self, frame)\u001b[0m\n\u001b[1;32m     25\u001b[0m         \u001b[0mdemod_frame\u001b[0m \u001b[0;34m=\u001b[0m \u001b[0mdemod_frame\u001b[0m\u001b[0;34m[\u001b[0m\u001b[0;34m:\u001b[0m \u001b[0mlen\u001b[0m\u001b[0;34m(\u001b[0m\u001b[0menc_frame\u001b[0m\u001b[0;34m)\u001b[0m\u001b[0;34m]\u001b[0m\u001b[0;34m\u001b[0m\u001b[0;34m\u001b[0m\u001b[0m\n\u001b[1;32m     26\u001b[0m         \u001b[0;31m# Decoding frame\u001b[0m\u001b[0;34m\u001b[0m\u001b[0;34m\u001b[0m\u001b[0;34m\u001b[0m\u001b[0m\n\u001b[0;32m---> 27\u001b[0;31m         \u001b[0mdec_frame\u001b[0m \u001b[0;34m=\u001b[0m \u001b[0mself\u001b[0m\u001b[0;34m.\u001b[0m\u001b[0mreceiver\u001b[0m\u001b[0;34m.\u001b[0m\u001b[0mdecode\u001b[0m\u001b[0;34m(\u001b[0m\u001b[0mdemod_frame\u001b[0m\u001b[0;34m)\u001b[0m\u001b[0;34m\u001b[0m\u001b[0;34m\u001b[0m\u001b[0m\n\u001b[0m\u001b[1;32m     28\u001b[0m         \u001b[0;31m# Shrink the last part of the decoded frame before comparing the results\u001b[0m\u001b[0;34m\u001b[0m\u001b[0;34m\u001b[0m\u001b[0;34m\u001b[0m\u001b[0m\n\u001b[1;32m     29\u001b[0m         \u001b[0;32mreturn\u001b[0m \u001b[0mdec_frame\u001b[0m\u001b[0;34m[\u001b[0m\u001b[0;34m:\u001b[0m \u001b[0mlen\u001b[0m\u001b[0;34m(\u001b[0m\u001b[0mframe\u001b[0m\u001b[0;34m)\u001b[0m\u001b[0;34m]\u001b[0m\u001b[0;34m\u001b[0m\u001b[0;34m\u001b[0m\u001b[0m\n",
      "\u001b[0;32m~/Documents/GT/Special_Problem/implementation/Receiver.py\u001b[0m in \u001b[0;36mdecode\u001b[0;34m(self, enc_frame)\u001b[0m\n\u001b[1;32m    127\u001b[0m             \u001b[0;31m# Decode the received frame according to the trellis\u001b[0m\u001b[0;34m\u001b[0m\u001b[0;34m\u001b[0m\u001b[0;34m\u001b[0m\u001b[0m\n\u001b[1;32m    128\u001b[0m             return cp.channelcoding.viterbi_decode(\n\u001b[0;32m--> 129\u001b[0;31m                 \u001b[0menc_frame\u001b[0m\u001b[0;34m,\u001b[0m \u001b[0mself\u001b[0m\u001b[0;34m.\u001b[0m\u001b[0mdec_trellis\u001b[0m\u001b[0;34m,\u001b[0m \u001b[0mdecoding_type\u001b[0m\u001b[0;34m=\u001b[0m\u001b[0;34m\"hard\"\u001b[0m  \u001b[0;31m# , tb_length=15\u001b[0m\u001b[0;34m\u001b[0m\u001b[0;34m\u001b[0m\u001b[0m\n\u001b[0m\u001b[1;32m    130\u001b[0m             )\n\u001b[1;32m    131\u001b[0m         \u001b[0;32melse\u001b[0m\u001b[0;34m:\u001b[0m\u001b[0;34m\u001b[0m\u001b[0;34m\u001b[0m\u001b[0m\n",
      "\u001b[0;32m~/.local/lib/python3.6/site-packages/commpy/channelcoding/convcode.py\u001b[0m in \u001b[0;36mviterbi_decode\u001b[0;34m(coded_bits, trellis, tb_depth, decoding_type)\u001b[0m\n\u001b[1;32m    556\u001b[0m         _acs_traceback(r_codeword, trellis, decoding_type, path_metrics, paths,\n\u001b[1;32m    557\u001b[0m                 \u001b[0mdecoded_symbols\u001b[0m\u001b[0;34m,\u001b[0m \u001b[0mdecoded_bits\u001b[0m\u001b[0;34m,\u001b[0m \u001b[0mtb_count\u001b[0m\u001b[0;34m,\u001b[0m \u001b[0mt\u001b[0m\u001b[0;34m,\u001b[0m \u001b[0mcount\u001b[0m\u001b[0;34m,\u001b[0m \u001b[0mtb_depth\u001b[0m\u001b[0;34m,\u001b[0m\u001b[0;34m\u001b[0m\u001b[0;34m\u001b[0m\u001b[0m\n\u001b[0;32m--> 558\u001b[0;31m                 current_number_states)\n\u001b[0m\u001b[1;32m    559\u001b[0m \u001b[0;34m\u001b[0m\u001b[0m\n\u001b[1;32m    560\u001b[0m         \u001b[0;32mif\u001b[0m \u001b[0mt\u001b[0m \u001b[0;34m>=\u001b[0m \u001b[0mtb_depth\u001b[0m \u001b[0;34m-\u001b[0m \u001b[0;36m1\u001b[0m\u001b[0;34m:\u001b[0m\u001b[0;34m\u001b[0m\u001b[0;34m\u001b[0m\u001b[0m\n",
      "\u001b[0;32m~/.local/lib/python3.6/site-packages/commpy/channelcoding/convcode.py\u001b[0m in \u001b[0;36m_acs_traceback\u001b[0;34m(r_codeword, trellis, decoding_type, path_metrics, paths, decoded_symbols, decoded_bits, tb_count, t, count, tb_depth, current_number_states)\u001b[0m\n\u001b[1;32m    464\u001b[0m             \u001b[0mdecoded_bitarray\u001b[0m \u001b[0;34m=\u001b[0m \u001b[0mdec2bitarray\u001b[0m\u001b[0;34m(\u001b[0m\u001b[0mdec_symbol\u001b[0m\u001b[0;34m,\u001b[0m \u001b[0mk\u001b[0m\u001b[0;34m)\u001b[0m\u001b[0;34m\u001b[0m\u001b[0;34m\u001b[0m\u001b[0m\n\u001b[1;32m    465\u001b[0m             \u001b[0mdecoded_bits\u001b[0m\u001b[0;34m[\u001b[0m\u001b[0;34m(\u001b[0m\u001b[0mt\u001b[0m\u001b[0;34m-\u001b[0m\u001b[0mtb_depth\u001b[0m\u001b[0;34m-\u001b[0m\u001b[0;36m1\u001b[0m\u001b[0;34m)\u001b[0m\u001b[0;34m+\u001b[0m\u001b[0;34m(\u001b[0m\u001b[0mj\u001b[0m\u001b[0;34m+\u001b[0m\u001b[0;36m1\u001b[0m\u001b[0;34m)\u001b[0m\u001b[0;34m*\u001b[0m\u001b[0mk\u001b[0m\u001b[0;34m+\u001b[0m\u001b[0mcount\u001b[0m\u001b[0;34m:\u001b[0m\u001b[0;34m(\u001b[0m\u001b[0mt\u001b[0m\u001b[0;34m-\u001b[0m\u001b[0mtb_depth\u001b[0m\u001b[0;34m-\u001b[0m\u001b[0;36m1\u001b[0m\u001b[0;34m)\u001b[0m\u001b[0;34m+\u001b[0m\u001b[0;34m(\u001b[0m\u001b[0mj\u001b[0m\u001b[0;34m+\u001b[0m\u001b[0;36m2\u001b[0m\u001b[0;34m)\u001b[0m\u001b[0;34m*\u001b[0m\u001b[0mk\u001b[0m\u001b[0;34m+\u001b[0m\u001b[0mcount\u001b[0m\u001b[0;34m]\u001b[0m \u001b[0;34m=\u001b[0m\u001b[0;31m \u001b[0m\u001b[0;31m \u001b[0m\u001b[0;31m\\\u001b[0m\u001b[0;34m\u001b[0m\u001b[0;34m\u001b[0m\u001b[0m\n\u001b[0;32m--> 466\u001b[0;31m                     \u001b[0mdecoded_bitarray\u001b[0m\u001b[0;34m\u001b[0m\u001b[0;34m\u001b[0m\u001b[0m\n\u001b[0m\u001b[1;32m    467\u001b[0m             \u001b[0mcurrent_state\u001b[0m \u001b[0;34m=\u001b[0m \u001b[0mprevious_state\u001b[0m\u001b[0;34m\u001b[0m\u001b[0;34m\u001b[0m\u001b[0m\n\u001b[1;32m    468\u001b[0m \u001b[0;34m\u001b[0m\u001b[0m\n",
      "\u001b[0;31mKeyboardInterrupt\u001b[0m: "
     ]
    }
   ],
   "source": [
    "# Launch simulation\n",
    "from MonteCarlo import *\n",
    "\n",
    "simulation_param_dict = {\n",
    "    \"m_c_parameters\": {\n",
    "        \"min_error_frame\": 100,\n",
    "        \"targeted_fer\": 5e-3,\n",
    "        \"step_db\": 2,\n",
    "        \"min_eb_n0\": 0,\n",
    "        \"max_eb_n0\": 50,\n",
    "    },\n",
    "    \"channel_parameters\": {\n",
    "        \"non_lin_coeff\": 0,\n",
    "        \"iq_imbalance\": None,\n",
    "        \"channel_taps\": np.array([1, 2, 3, 2, 1]),\n",
    "    },\n",
    "    \"frame_length\": 256,\n",
    "    \"modulation\": {\n",
    "        \"modulation_order\": 4,\n",
    "        \"nb_carriers\": 64,\n",
    "        \"cp_length\": 8,\n",
    "        \"off_carrier\": 0,\n",
    "    },\n",
    "    \"equalizer\": \"ZF\",\n",
    "    \"channel_coding\": {\n",
    "        \"mem_size\": np.array([2]),\n",
    "        \"g_matrix\": np.array([[0o5, 0o7]]),\n",
    "        \"rho\": 1 / 2,  #  Coding rate\n",
    "    },\n",
    "}\n",
    "\n",
    "# Launch the simulation\n",
    "monte_carlo_simulation(simulation_param_dict)"
   ]
  },
  {
   "cell_type": "code",
   "execution_count": 2,
   "metadata": {},
   "outputs": [
    {
     "name": "stdout",
     "output_type": "stream",
     "text": [
      "[4.57e-01 4.16e-01 3.55e-01 3.04e-01 2.68e-01 2.30e-01 1.83e-01 1.41e-01\n",
      " 1.05e-01 7.71e-02 6.13e-02 4.79e-02 3.89e-02 3.29e-02 2.83e-02 2.26e-02\n",
      " 1.52e-02 1.03e-02 7.56e-03 1.82e-03 8.70e-05 0.00e+00 0.00e+00 0.00e+00\n",
      " 0.00e+00]\n"
     ]
    },
    {
     "data": {
      "image/png": "[encoded data removed]",
      "text/plain": [
       "<Figure size 432x288 with 1 Axes>"
      ]
     },
     "metadata": {
      "needs_background": "light"
     },
     "output_type": "display_data"
    }
   ],
   "source": [
    "# Print of performances\n",
    "from Utils import *\n",
    "\n",
    "\n",
    "res = load_results(\"./results/OFDM_eq_MMSE_coding_1_non_lin_coeff_0_iq_im_None_snr_0_to_50_step_2.pickle\");\n",
    "#OFDM_eq_MMSE_non_lin_coeff_0_iq_im_None_snr_0_to_40_step_2.pickle\")\n",
    "res_ZF = load_results(\"./results/OFDM_eq_ZF_coding_1_non_lin_coeff_0_iq_im_None_snr_0_to_50_step_2.pickle\");\n",
    "#OFDM_eq_ZF_non_lin_coeff_0_iq_im_None_snr_0_to_40_step_2.pickle\")\n",
    "\n",
    "print(res[\"results\"][\"ber\"])\n",
    "\n",
    "plt.plot(res[\"results\"][\"eb_n0_db\"], res[\"results\"][\"ber\"], \"b\")\n",
    "plt.plot(res_ZF[\"results\"][\"eb_n0_db\"], res_ZF[\"results\"][\"ber\"], \"r\")\n",
    "plt.yscale(\"log\")\n",
    "plt.title(\"BER results\")\n",
    "plt.xlabel(\"Eb/N0 (dB)\")\n",
    "plt.ylabel(\"BER\")\n",
    "plt.grid(True)\n",
    "plt.show()\n"
   ]
  },
  {
   "cell_type": "code",
   "execution_count": 5,
   "metadata": {},
   "outputs": [
    {
     "name": "stdout",
     "output_type": "stream",
     "text": [
      "shape comparison samples and targets (35160, 72) (35160, 72)\n",
      "Data set created at ./data_set/OFDM_non_lin_coeff_0.5_iq_im_0.5_eb_n0_10_proakis_C.pt\n"
     ]
    }
   ],
   "source": [
    "from DataSetManager import *\n",
    "\n",
    "# Data set Creation\n",
    "data_set_generation_param_dict = {\n",
    "    \"eb_n0_db\": 10,\n",
    "    \"channel_parameters\": {\n",
    "        \"non_lin_coeff\": 0.5,\n",
    "        \"iq_imbalance\": 0.5,\n",
    "        \"channel_taps\": np.array([1]),\n",
    "    },\n",
    "    \"frame_length\": 2000140, # 1000040\n",
    "    \"modulation\": {\n",
    "        \"modulation_order\": 4,\n",
    "        \"nb_carriers\": 64,\n",
    "        \"cp_length\": 8,\n",
    "        \"off_carrier\": 0,\n",
    "    },\n",
    "    \"equalizer\": \"MMSE\",\n",
    "    \"channel_coding\": {\n",
    "        \"mem_size\": np.array([2]),\n",
    "        \"g_matrix\": np.array([[0o5, 0o7]]),\n",
    "        \"rho\": 1 / 2,  #  Coding rate\n",
    "    },\n",
    "}\n",
    "\n",
    "create_data_set(data_set_generation_param_dict)"
   ]
  },
  {
   "cell_type": "code",
   "execution_count": 28,
   "metadata": {},
   "outputs": [
    {
     "name": "stdout",
     "output_type": "stream",
     "text": [
      "28128 3516 3516 35160\n",
      "72\n",
      "Can't load ./models/pre_eq_model_test => Generate a new model\n",
      "Epoch 50/50; training MSE : 0.0004826335934922099; validation MSE : 0.0007861783378757536"
     ]
    },
    {
     "data": {
      "image/png": "[encoded data removed]",
      "text/plain": [
       "<Figure size 432x288 with 1 Axes>"
      ]
     },
     "metadata": {
      "needs_background": "light"
     },
     "output_type": "display_data"
    }
   ],
   "source": [
    "#  Train the NN-prequlizer\n",
    "from PreEqualizer import *\n",
    "from torch.utils.data import DataLoader\n",
    "\n",
    "# Load the data set\n",
    "data_set = OFDMSamplesDataset(\n",
    "    \"./data_set/OFDM_non_lin_coeff_0.5_iq_im_0.5_eb_n0_10_proakis_C.pt\"\n",
    ")\n",
    "# Spliting policies\n",
    "training_size = int(0.8 * len(data_set))\n",
    "validation_size = int(0.1 * len(data_set))\n",
    "test_size = int(0.1 * len(data_set))\n",
    "\n",
    "print(training_size, validation_size, test_size, len(data_set))\n",
    "\n",
    "# Split data set\n",
    "training_set, validation_set, test_set = torch.utils.data.random_split(\n",
    "    data_set, [training_size, validation_size, test_size]\n",
    ")\n",
    "\n",
    "# Create a data loaders.\n",
    "training_dataloader = DataLoader(dataset=training_set, batch_size=2000, shuffle=False)\n",
    "validation_dataloader = DataLoader(\n",
    "    dataset=validation_set, batch_size=2000, shuffle=False\n",
    ")\n",
    "\n",
    "# Creation of the PreEqualizer\n",
    "model_path = \"./models/pre_eq_model_test\"\n",
    "\n",
    "pre_eq = PreEqualizer(data_set.get_number_of_carriers())\n",
    "print(data_set.get_number_of_carriers())\n",
    "try:\n",
    "    pre_eq.load_state_dict(torch.load(model_path))\n",
    "except:\n",
    "    print(\"Can't load {} => Generate a new model\".format(model_path))\n",
    "\n",
    "# Train the Pre-Equalizer in standalone mode\n",
    "PreEqualizer.train(\n",
    "    pre_eq, training_dataloader, validation_dataloader, nb_epochs=50, sgd_step=0.001\n",
    ")\n",
    "\n",
    "# Save the model after training\n",
    "torch.save(pre_eq.state_dict(), model_path)"
   ]
  },
  {
   "cell_type": "code",
   "execution_count": 89,
   "metadata": {},
   "outputs": [
    {
     "name": "stdout",
     "output_type": "stream",
     "text": [
      "rho value is  0.5\n",
      "At  0.0  % , BER =  0.4914453125 , FER =  1.0  for  Eb/N0 =  0  dB , SNR =  0.0 dB  nb_tries =  100\n",
      "At  4.0  % , BER =  0.4728515625 , FER =  1.0  for  Eb/N0 =  2  dB , SNR =  2.0 dB  nb_tries =  100\n",
      "At  8.0  % , BER =  0.383046875 , FER =  1.0  for  Eb/N0 =  4  dB , SNR =  4.0 dB  nb_tries =  100\n"
     ]
    },
    {
     "ename": "KeyboardInterrupt",
     "evalue": "",
     "output_type": "error",
     "traceback": [
      "\u001b[0;31m---------------------------------------------------------------------------\u001b[0m",
      "\u001b[0;31mKeyboardInterrupt\u001b[0m                         Traceback (most recent call last)",
      "\u001b[0;32m<ipython-input-89-13ac8e5175b5>\u001b[0m in \u001b[0;36m<module>\u001b[0;34m\u001b[0m\n\u001b[1;32m     46\u001b[0m \u001b[0;34m\u001b[0m\u001b[0m\n\u001b[1;32m     47\u001b[0m \u001b[0;31m# Launch the simulation\u001b[0m\u001b[0;34m\u001b[0m\u001b[0;34m\u001b[0m\u001b[0;34m\u001b[0m\u001b[0m\n\u001b[0;32m---> 48\u001b[0;31m \u001b[0mmonte_carlo_simulation\u001b[0m\u001b[0;34m(\u001b[0m\u001b[0msimulation_param_dict\u001b[0m\u001b[0;34m)\u001b[0m\u001b[0;34m\u001b[0m\u001b[0;34m\u001b[0m\u001b[0m\n\u001b[0m",
      "\u001b[0;32m~/Documents/GT/Special_Problem/implementation/MonteCarlo.py\u001b[0m in \u001b[0;36mmonte_carlo_simulation\u001b[0;34m(sim_param_dict, add_on_path)\u001b[0m\n\u001b[1;32m    122\u001b[0m             \u001b[0mframe\u001b[0m \u001b[0;34m=\u001b[0m \u001b[0mnp\u001b[0m\u001b[0;34m.\u001b[0m\u001b[0mrandom\u001b[0m\u001b[0;34m.\u001b[0m\u001b[0mrandint\u001b[0m\u001b[0;34m(\u001b[0m\u001b[0;36m0\u001b[0m\u001b[0;34m,\u001b[0m \u001b[0mhigh\u001b[0m\u001b[0;34m=\u001b[0m\u001b[0;36m2\u001b[0m\u001b[0;34m,\u001b[0m \u001b[0msize\u001b[0m\u001b[0;34m=\u001b[0m\u001b[0msim_param_dict\u001b[0m\u001b[0;34m[\u001b[0m\u001b[0;34m\"frame_length\"\u001b[0m\u001b[0;34m]\u001b[0m\u001b[0;34m)\u001b[0m\u001b[0;34m\u001b[0m\u001b[0;34m\u001b[0m\u001b[0m\n\u001b[1;32m    123\u001b[0m             \u001b[0;31m# Send the frame to the physical layer\u001b[0m\u001b[0;34m\u001b[0m\u001b[0;34m\u001b[0m\u001b[0;34m\u001b[0m\u001b[0m\n\u001b[0;32m--> 124\u001b[0;31m             \u001b[0mrecieved_frame\u001b[0m \u001b[0;34m=\u001b[0m \u001b[0mphy_layer\u001b[0m\u001b[0;34m.\u001b[0m\u001b[0mprocess_frame\u001b[0m\u001b[0;34m(\u001b[0m\u001b[0mframe\u001b[0m\u001b[0;34m)\u001b[0m\u001b[0;34m\u001b[0m\u001b[0;34m\u001b[0m\u001b[0m\n\u001b[0m\u001b[1;32m    125\u001b[0m             \u001b[0;31m# Counting errors\u001b[0m\u001b[0;34m\u001b[0m\u001b[0;34m\u001b[0m\u001b[0;34m\u001b[0m\u001b[0m\n\u001b[1;32m    126\u001b[0m             \u001b[0merrors_num\u001b[0m \u001b[0;34m=\u001b[0m \u001b[0mnp\u001b[0m\u001b[0;34m.\u001b[0m\u001b[0msum\u001b[0m\u001b[0;34m(\u001b[0m\u001b[0mrecieved_frame\u001b[0m \u001b[0;34m!=\u001b[0m \u001b[0mframe\u001b[0m\u001b[0;34m)\u001b[0m\u001b[0;34m\u001b[0m\u001b[0;34m\u001b[0m\u001b[0m\n",
      "\u001b[0;32m~/Documents/GT/Special_Problem/implementation/PhyLayer.py\u001b[0m in \u001b[0;36mprocess_frame\u001b[0;34m(self, frame)\u001b[0m\n\u001b[1;32m     28\u001b[0m         \u001b[0mdemod_frame_shrinked\u001b[0m \u001b[0;34m=\u001b[0m \u001b[0mdemod_frame\u001b[0m\u001b[0;34m[\u001b[0m\u001b[0;34m:\u001b[0m \u001b[0mlen\u001b[0m\u001b[0;34m(\u001b[0m\u001b[0menc_frame\u001b[0m\u001b[0;34m)\u001b[0m\u001b[0;34m]\u001b[0m\u001b[0;34m\u001b[0m\u001b[0;34m\u001b[0m\u001b[0m\n\u001b[1;32m     29\u001b[0m         \u001b[0;31m# Decoding frame\u001b[0m\u001b[0;34m\u001b[0m\u001b[0;34m\u001b[0m\u001b[0;34m\u001b[0m\u001b[0m\n\u001b[0;32m---> 30\u001b[0;31m         \u001b[0mdec_frame\u001b[0m \u001b[0;34m=\u001b[0m \u001b[0mself\u001b[0m\u001b[0;34m.\u001b[0m\u001b[0mreceiver\u001b[0m\u001b[0;34m.\u001b[0m\u001b[0mdecode\u001b[0m\u001b[0;34m(\u001b[0m\u001b[0mdemod_frame_shrinked\u001b[0m\u001b[0;34m)\u001b[0m\u001b[0;34m\u001b[0m\u001b[0;34m\u001b[0m\u001b[0m\n\u001b[0m\u001b[1;32m     31\u001b[0m         \u001b[0;31m# Shrink the last part of the decoded frame before comparing the results\u001b[0m\u001b[0;34m\u001b[0m\u001b[0;34m\u001b[0m\u001b[0;34m\u001b[0m\u001b[0m\n\u001b[1;32m     32\u001b[0m         \u001b[0mdec_frame\u001b[0m \u001b[0;34m=\u001b[0m \u001b[0mdec_frame\u001b[0m\u001b[0;34m[\u001b[0m\u001b[0;34m:\u001b[0m \u001b[0mlen\u001b[0m\u001b[0;34m(\u001b[0m\u001b[0mframe\u001b[0m\u001b[0;34m)\u001b[0m\u001b[0;34m]\u001b[0m\u001b[0;34m\u001b[0m\u001b[0;34m\u001b[0m\u001b[0m\n",
      "\u001b[0;32m~/Documents/GT/Special_Problem/implementation/Receiver.py\u001b[0m in \u001b[0;36mdecode\u001b[0;34m(self, enc_frame)\u001b[0m\n\u001b[1;32m    160\u001b[0m             \u001b[0;31m# Decode the received frame according to the trellis\u001b[0m\u001b[0;34m\u001b[0m\u001b[0;34m\u001b[0m\u001b[0;34m\u001b[0m\u001b[0m\n\u001b[1;32m    161\u001b[0m             return cp.channelcoding.viterbi_decode(\n\u001b[0;32m--> 162\u001b[0;31m                 \u001b[0menc_frame\u001b[0m\u001b[0;34m,\u001b[0m \u001b[0mself\u001b[0m\u001b[0;34m.\u001b[0m\u001b[0mdec_trellis\u001b[0m\u001b[0;34m,\u001b[0m \u001b[0mdecoding_type\u001b[0m\u001b[0;34m=\u001b[0m\u001b[0;34m\"hard\"\u001b[0m  \u001b[0;31m# , tb_length=15\u001b[0m\u001b[0;34m\u001b[0m\u001b[0;34m\u001b[0m\u001b[0m\n\u001b[0m\u001b[1;32m    163\u001b[0m             )\n\u001b[1;32m    164\u001b[0m         \u001b[0;32melse\u001b[0m\u001b[0;34m:\u001b[0m\u001b[0;34m\u001b[0m\u001b[0;34m\u001b[0m\u001b[0m\n",
      "\u001b[0;32m~/.local/lib/python3.6/site-packages/commpy/channelcoding/convcode.py\u001b[0m in \u001b[0;36mviterbi_decode\u001b[0;34m(coded_bits, trellis, tb_depth, decoding_type)\u001b[0m\n\u001b[1;32m    556\u001b[0m         _acs_traceback(r_codeword, trellis, decoding_type, path_metrics, paths,\n\u001b[1;32m    557\u001b[0m                 \u001b[0mdecoded_symbols\u001b[0m\u001b[0;34m,\u001b[0m \u001b[0mdecoded_bits\u001b[0m\u001b[0;34m,\u001b[0m \u001b[0mtb_count\u001b[0m\u001b[0;34m,\u001b[0m \u001b[0mt\u001b[0m\u001b[0;34m,\u001b[0m \u001b[0mcount\u001b[0m\u001b[0;34m,\u001b[0m \u001b[0mtb_depth\u001b[0m\u001b[0;34m,\u001b[0m\u001b[0;34m\u001b[0m\u001b[0;34m\u001b[0m\u001b[0m\n\u001b[0;32m--> 558\u001b[0;31m                 current_number_states)\n\u001b[0m\u001b[1;32m    559\u001b[0m \u001b[0;34m\u001b[0m\u001b[0m\n\u001b[1;32m    560\u001b[0m         \u001b[0;32mif\u001b[0m \u001b[0mt\u001b[0m \u001b[0;34m>=\u001b[0m \u001b[0mtb_depth\u001b[0m \u001b[0;34m-\u001b[0m \u001b[0;36m1\u001b[0m\u001b[0;34m:\u001b[0m\u001b[0;34m\u001b[0m\u001b[0;34m\u001b[0m\u001b[0m\n",
      "\u001b[0;32m~/.local/lib/python3.6/site-packages/commpy/channelcoding/convcode.py\u001b[0m in \u001b[0;36m_acs_traceback\u001b[0;34m(r_codeword, trellis, decoding_type, path_metrics, paths, decoded_symbols, decoded_bits, tb_count, t, count, tb_depth, current_number_states)\u001b[0m\n\u001b[1;32m    423\u001b[0m             \u001b[0mi_codeword\u001b[0m \u001b[0;34m=\u001b[0m \u001b[0moutput_table\u001b[0m\u001b[0;34m[\u001b[0m\u001b[0mprevious_state\u001b[0m\u001b[0;34m,\u001b[0m \u001b[0mprevious_input\u001b[0m\u001b[0;34m]\u001b[0m\u001b[0;34m\u001b[0m\u001b[0;34m\u001b[0m\u001b[0m\n\u001b[1;32m    424\u001b[0m             \u001b[0;31m#dec2bitarray_c(i_codeword, n, i_codeword_array)\u001b[0m\u001b[0;34m\u001b[0m\u001b[0;34m\u001b[0m\u001b[0;34m\u001b[0m\u001b[0m\n\u001b[0;32m--> 425\u001b[0;31m             \u001b[0mi_codeword_array\u001b[0m \u001b[0;34m=\u001b[0m \u001b[0mdec2bitarray\u001b[0m\u001b[0;34m(\u001b[0m\u001b[0mi_codeword\u001b[0m\u001b[0;34m,\u001b[0m \u001b[0mn\u001b[0m\u001b[0;34m)\u001b[0m\u001b[0;34m\u001b[0m\u001b[0;34m\u001b[0m\u001b[0m\n\u001b[0m\u001b[1;32m    426\u001b[0m \u001b[0;34m\u001b[0m\u001b[0m\n\u001b[1;32m    427\u001b[0m             \u001b[0;31m# Compute Branch Metrics\u001b[0m\u001b[0;34m\u001b[0m\u001b[0;34m\u001b[0m\u001b[0;34m\u001b[0m\u001b[0m\n",
      "\u001b[0;32m~/.local/lib/python3.6/site-packages/commpy/utilities.py\u001b[0m in \u001b[0;36mdec2bitarray\u001b[0;34m(in_number, bit_width)\u001b[0m\n\u001b[1;32m     46\u001b[0m     \u001b[0mbinary_string\u001b[0m \u001b[0;34m=\u001b[0m \u001b[0mbin\u001b[0m\u001b[0;34m(\u001b[0m\u001b[0min_number\u001b[0m\u001b[0;34m)\u001b[0m\u001b[0;34m\u001b[0m\u001b[0;34m\u001b[0m\u001b[0m\n\u001b[1;32m     47\u001b[0m     \u001b[0mlength\u001b[0m \u001b[0;34m=\u001b[0m \u001b[0mlen\u001b[0m\u001b[0;34m(\u001b[0m\u001b[0mbinary_string\u001b[0m\u001b[0;34m)\u001b[0m\u001b[0;34m\u001b[0m\u001b[0;34m\u001b[0m\u001b[0m\n\u001b[0;32m---> 48\u001b[0;31m     \u001b[0mbitarray\u001b[0m \u001b[0;34m=\u001b[0m \u001b[0mnp\u001b[0m\u001b[0;34m.\u001b[0m\u001b[0mzeros\u001b[0m\u001b[0;34m(\u001b[0m\u001b[0mbit_width\u001b[0m\u001b[0;34m,\u001b[0m \u001b[0;34m'int'\u001b[0m\u001b[0;34m)\u001b[0m\u001b[0;34m\u001b[0m\u001b[0;34m\u001b[0m\u001b[0m\n\u001b[0m\u001b[1;32m     49\u001b[0m     \u001b[0;32mfor\u001b[0m \u001b[0mi\u001b[0m \u001b[0;32min\u001b[0m \u001b[0mrange\u001b[0m\u001b[0;34m(\u001b[0m\u001b[0mlength\u001b[0m \u001b[0;34m-\u001b[0m \u001b[0;36m2\u001b[0m\u001b[0;34m)\u001b[0m\u001b[0;34m:\u001b[0m\u001b[0;34m\u001b[0m\u001b[0;34m\u001b[0m\u001b[0m\n\u001b[1;32m     50\u001b[0m         \u001b[0mbitarray\u001b[0m\u001b[0;34m[\u001b[0m\u001b[0mbit_width\u001b[0m \u001b[0;34m-\u001b[0m \u001b[0mi\u001b[0m \u001b[0;34m-\u001b[0m \u001b[0;36m1\u001b[0m\u001b[0;34m]\u001b[0m \u001b[0;34m=\u001b[0m \u001b[0mint\u001b[0m\u001b[0;34m(\u001b[0m\u001b[0mbinary_string\u001b[0m\u001b[0;34m[\u001b[0m\u001b[0mlength\u001b[0m \u001b[0;34m-\u001b[0m \u001b[0mi\u001b[0m \u001b[0;34m-\u001b[0m \u001b[0;36m1\u001b[0m\u001b[0;34m]\u001b[0m\u001b[0;34m)\u001b[0m\u001b[0;34m\u001b[0m\u001b[0;34m\u001b[0m\u001b[0m\n",
      "\u001b[0;31mKeyboardInterrupt\u001b[0m: "
     ]
    }
   ],
   "source": [
    "# Launch simulation\n",
    "from MonteCarlo import *\n",
    "\n",
    "# Test the performances of the model online\n",
    "# Create a data loader.\n",
    "# test_dataloader = DataLoader(dataset=test_set, batch_size=1000, shuffle=False)\n",
    "\n",
    "# Model loading\n",
    "model_path = \"./models/pre_eq_model_test\"\n",
    "\n",
    "# Train the Pre-Equalizer in standalone mode\n",
    "# PreEqualizer.test(pre_eq, test_dataloader, nb_epochs=100, sgd_step=0.001)\n",
    "\n",
    "\n",
    "simulation_param_dict = {\n",
    "    \"m_c_parameters\": {\n",
    "        \"min_error_frame\": 100,\n",
    "        \"targeted_fer\": 5e-3,\n",
    "        \"step_db\": 2,\n",
    "        \"min_eb_n0\": 0,\n",
    "        \"max_eb_n0\": 50,\n",
    "    },\n",
    "    \"channel_parameters\": {\n",
    "        \"non_lin_coeff\": 0.5,\n",
    "        \"iq_imbalance\": 0.5,\n",
    "        \"channel_taps\": np.array([1]),\n",
    "    },\n",
    "    \"frame_length\": 256,\n",
    "    \"modulation\": {\n",
    "        \"modulation_order\": 4,\n",
    "        \"nb_carriers\": 64,\n",
    "        \"cp_length\": 8,\n",
    "        \"off_carrier\": 0,\n",
    "    },\n",
    "    \"equalizer\": \"ZF\",\n",
    "    \"channel_coding\": {\n",
    "        \"mem_size\": np.array([2]),\n",
    "        \"g_matrix\": np.array([[0o5, 0o7]]),\n",
    "        \"rho\": 1 / 2,  #  Coding rate\n",
    "    },\n",
    "    \"pre-equalizer\": {\n",
    "        \"model_path\": model_path,\n",
    "        \"feed_back_freq\": 10,\n",
    "    }\n",
    "}\n",
    "\n",
    "# Launch the simulation\n",
    "monte_carlo_simulation(simulation_param_dict)"
   ]
  },
  {
   "cell_type": "code",
   "execution_count": null,
   "metadata": {},
   "outputs": [],
   "source": []
  }
 ],
 "metadata": {
  "accelerator": "GPU",
  "colab": {
   "collapsed_sections": [],
   "name": "online_label_recovery.ipynb",
   "provenance": [],
   "version": "0.3.2"
  },
  "kernelspec": {
   "display_name": "Python 3",
   "language": "python",
   "name": "python3"
  },
  "language_info": {
   "codemirror_mode": {
    "name": "ipython",
    "version": 3
   },
   "file_extension": ".py",
   "mimetype": "text/x-python",
   "name": "python",
   "nbconvert_exporter": "python",
   "pygments_lexer": "ipython3",
   "version": "3.6.7"
  }
 },
 "nbformat": 4,
 "nbformat_minor": 2
}

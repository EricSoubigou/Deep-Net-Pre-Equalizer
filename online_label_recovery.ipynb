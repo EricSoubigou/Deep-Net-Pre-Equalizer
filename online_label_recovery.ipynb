{
  "nbformat": 4,
  "nbformat_minor": 0,
  "metadata": {
    "colab": {
      "name": "online_label_recovery.ipynb",
      "version": "0.3.2",
      "provenance": [],
      "collapsed_sections": []
    },
    "kernelspec": {
      "name": "python3",
      "display_name": "Python 3"
    },
    "accelerator": "GPU"
  },
  "cells": [
    {
      "metadata": {
        "id": "JmRsVJrvJD6-",
        "colab_type": "text"
      },
      "cell_type": "markdown",
      "source": [
        "-------------------------------------------------------------------------------------------------------------------\n",
        "Implementaion of : \"Online Label Recovery for Deep Learning-based communication through Error Correcting codes\"\n",
        "\n",
        "Author : Eric Soubigou\n",
        "\n",
        "Date : Spring 2019\n",
        "\n",
        "-------------------------------------------------------------------------------------------------------------------\n",
        "\n",
        "Description :  Creation of a DFE like with Deep Learning technologies"
      ]
    },
    {
      "metadata": {
        "id": "qJ7p4pjiP3ak",
        "colab_type": "code",
        "outputId": "8a04c1d7-1857-4441-b539-2bac38b68076",
        "colab": {
          "base_uri": "https://localhost:8080/",
          "height": 343
        }
      },
      "cell_type": "code",
      "source": [
        "# Install libraries :\n",
        "!pip install git+git://github.com/veeresht/CommPy.git@master"
      ],
      "execution_count": 0,
      "outputs": [
        {
          "output_type": "stream",
          "text": [
            "Collecting git+git://github.com/veeresht/CommPy.git@master\n",
            "  Cloning git://github.com/veeresht/CommPy.git (to revision master) to /tmp/pip-req-build-61ajmzyf\n",
            "Requirement already satisfied: numpy in /usr/local/lib/python3.6/dist-packages (from scikit-commpy==0.3.0) (1.14.6)\n",
            "Requirement already satisfied: scipy in /usr/local/lib/python3.6/dist-packages (from scikit-commpy==0.3.0) (1.1.0)\n",
            "Requirement already satisfied: matplotlib in /usr/local/lib/python3.6/dist-packages (from scikit-commpy==0.3.0) (3.0.3)\n",
            "Requirement already satisfied: kiwisolver>=1.0.1 in /usr/local/lib/python3.6/dist-packages (from matplotlib->scikit-commpy==0.3.0) (1.0.1)\n",
            "Requirement already satisfied: python-dateutil>=2.1 in /usr/local/lib/python3.6/dist-packages (from matplotlib->scikit-commpy==0.3.0) (2.5.3)\n",
            "Requirement already satisfied: cycler>=0.10 in /usr/local/lib/python3.6/dist-packages (from matplotlib->scikit-commpy==0.3.0) (0.10.0)\n",
            "Requirement already satisfied: pyparsing!=2.0.4,!=2.1.2,!=2.1.6,>=2.0.1 in /usr/local/lib/python3.6/dist-packages (from matplotlib->scikit-commpy==0.3.0) (2.3.1)\n",
            "Requirement already satisfied: setuptools in /usr/local/lib/python3.6/dist-packages (from kiwisolver>=1.0.1->matplotlib->scikit-commpy==0.3.0) (40.8.0)\n",
            "Requirement already satisfied: six>=1.5 in /usr/local/lib/python3.6/dist-packages (from python-dateutil>=2.1->matplotlib->scikit-commpy==0.3.0) (1.11.0)\n",
            "Building wheels for collected packages: scikit-commpy\n",
            "  Building wheel for scikit-commpy (setup.py) ... \u001b[?25ldone\n",
            "\u001b[?25h  Stored in directory: /tmp/pip-ephem-wheel-cache-ofsa1ogl/wheels/d1/6a/31/8ddc70e8eb8a1c3ad344032ed43b4ebfccc41007e8850226d0\n",
            "Successfully built scikit-commpy\n",
            "Installing collected packages: scikit-commpy\n",
            "Successfully installed scikit-commpy-0.3.0\n"
          ],
          "name": "stdout"
        }
      ]
    },
    {
      "metadata": {
        "id": "Ka8RHlvyKLf9",
        "colab_type": "code",
        "colab": {}
      },
      "cell_type": "code",
      "source": [
        "## Imports\n",
        "import time\n",
        "from __future__ import print_function\n",
        "import matplotlib.pyplot as plt\n",
        "\n",
        "# Scipy\n",
        "import scipy as sp\n",
        "from scipy import signal\n",
        "# Numpy\n",
        "import numpy as np\n",
        "# Compy\n",
        "from commpy.filters import *\n",
        "import commpy as cp\n",
        "\n",
        "# For DL libraries \n",
        "import torch\n",
        "\n",
        "# Keras\n",
        "#from keras import backend as K\n",
        "#from keras.models import Sequential\n",
        "#from keras.layers.core import Dense, Lambda"
      ],
      "execution_count": 0,
      "outputs": []
    },
    {
      "metadata": {
        "id": "I0lJy1vQJoO3",
        "colab_type": "code",
        "colab": {}
      },
      "cell_type": "code",
      "source": [
        "### Simulation import\n",
        "from commpy.channelcoding.convcode import Trellis, conv_encode, viterbi_decode\n",
        "from commpy.modulation import *\n",
        "\n",
        "\n",
        "### Simulation initialization\n",
        "\n",
        "# Channel code parameters + trellis generation\n",
        "mem_size = np.array([2])\n",
        "g_matrix = np.array([[0o5, 0o7]])\n",
        "\n",
        "# Modulation parameters\n",
        "modulation_order = 2\n",
        "frame_length = 256\n",
        "\n",
        "# OFDM parameters\n",
        "nb_carriers = 64\n",
        "cp_length = 8\n",
        "g_i_interval = 0\n",
        "off_carrier = 0"
      ],
      "execution_count": 0,
      "outputs": []
    },
    {
      "metadata": {
        "id": "LsWpV7tzueky",
        "colab_type": "code",
        "colab": {}
      },
      "cell_type": "code",
      "source": [
        "\"\"\"\n",
        "  Useful functions\n",
        "\"\"\"\n",
        "\n",
        "\"\"\" Return if the number is a power of two. \n",
        "\"\"\"\n",
        "def is_power_of_2(num):\n",
        "\n",
        "\treturn num != 0 and ((num & (num - 1)) == 0)\n",
        "\n",
        "def plot_spectrum(signal, time_step):\n",
        "  # Go in the frequency domain\n",
        "  spectrum = np.abs(np.fft.fftshift(np.fft.fft(signal)))**2\n",
        "  f, welch_estimate = sp.signal.welch(signal)\n",
        "  freq = np.fft.fftshift(np.fft.fftfreq(signal.size, d=time_step))\n",
        "#   print(\"Len of freq, spectrum, signal is : \", freq.shape, spectrum.shape, signal.shape)\n",
        "  #plt.plot(freq, spectrum, 'r')\n",
        "  plt.plot(f, welch_estimate, 'b')\n",
        "  plt.yscale('log')\n",
        "  plt.title('OFDM Spectrogram')\n",
        "  plt.ylabel('Frequency [Hz]')\n",
        "  plt.ylabel('Amplitude')\n",
        "  plt.grid(True)\n",
        "  plt.show()\n"
      ],
      "execution_count": 0,
      "outputs": []
    },
    {
      "metadata": {
        "id": "dNOjPYRqY_EZ",
        "colab_type": "code",
        "colab": {}
      },
      "cell_type": "code",
      "source": [
        "\"\"\"\n",
        "  Emitter class\n",
        "\"\"\"\n",
        "\n",
        "class Emiter:\n",
        "  \"\"\" Class of the emiter.\n",
        "  \n",
        "  :cp_len: An integer, length of the cyclic-prefix of the OFDM.\n",
        "  :nb_carriers: An integer, number of sub_carrier used to transmit data.\n",
        "  :modulation_order: An integer, the modulation order.\n",
        "  :nb_off_carriers: An integer, number of off carrier in OFDM scheme\n",
        "  \n",
        "  Ex : | CP | CP | OFF | OFF | ON | ON | ... | ON |\n",
        "  \n",
        "  \"\"\"\n",
        "  def __init__(self, cp_len, nb_carriers, modulation_order, trellis, nb_off_carriers=0):\n",
        "    self.cp_len = cp_len\n",
        "    self.nb_carriers = nb_carriers\n",
        "    self.nb_off_carriers = nb_off_carriers\n",
        "    # Number of carriers that are used knowing the number of off-carrier\n",
        "    self.nb_on_carriers = self.nb_carriers - self.nb_off_carriers\n",
        "\n",
        "\n",
        "    if is_power_of_2(modulation_order):\n",
        "      self.modulator = cp.modulation.PSKModem(modulation_order)\n",
        "    else:\n",
        "      print('Wrong modulation order : modulation order = ', modulation_order)\n",
        "\n",
        "    # Test if the trellis is well-defined\n",
        "    if trellis is not None:\n",
        "      self.enc_trellis = trellis\n",
        "    else:\n",
        "      print(\"trellis is not defined\")\n",
        "      \n",
        "  def get_trellis(self):\n",
        "    return self.enc_trellis\n",
        "      \n",
        "  \"\"\" Modulate and Map the frame. In other words, will perform the Modulation \n",
        "  and the Mapping and then perform the OFDM transmormation before sending the \n",
        "  data.\n",
        "  :frame: The frame that has to be modulated.\n",
        "  \"\"\"\n",
        "  def modulate(self, frame):\n",
        "    # Mapping of the data\n",
        "    mod_frame = self.modulator.modulate(frame)\n",
        "#     print(\"The mapped frame shape is\", mod_frame.shape)\n",
        "    # Test if the division is equal to an integer or not\n",
        "    if len(mod_frame) % self.nb_on_carriers != 0:\n",
        "      nb_ofdm_group = (len(mod_frame) // self.nb_on_carriers) + 1\n",
        "      \"\"\" Add padding to the frame in order to get a interger number of PHY \n",
        "       frames used.\n",
        "      \"\"\"\n",
        "      padding = np.zeros((self.nb_on_carriers - len(mod_frame) \n",
        "                         % self.nb_on_carriers) \n",
        "                         * self.modulator.num_bits_symbol,\n",
        "                         dtype=int)\n",
        "      \n",
        "#       print(\"Add padding of size : \", padding.size,\n",
        "#             \" for a number of PHY frame of \", nb_ofdm_group)\n",
        "      mod_frame = np.concatenate((mod_frame, self.modulator.modulate(padding)),\n",
        "                                 axis=0)\n",
        "    else:\n",
        "      # No padding to perform\n",
        "      nb_ofdm_group = len(mod_frame) // self.nb_on_carriers\n",
        "      \n",
        "#     print(\"The number of OFDM PHY frame is : \", nb_ofdm_group)\n",
        "    # Then shrink the frame to perform the modulation\n",
        "#     print(\"The number of on carrier is : \", self.nb_on_carriers)\n",
        "#       print(\"Hence the number of symbol will be \", \n",
        "#           self.nb_on_carriers*nb_ofdm_group, \n",
        "#           \" and is actualy \",\n",
        "#           mod_frame.size)\n",
        "    \n",
        "    carriers = np.reshape(mod_frame, (nb_ofdm_group, self.nb_on_carriers))\n",
        "    #print(\"The shape of the shrink frame is : \", np.shape(carriers))\n",
        "    if self.nb_off_carriers > 0:\n",
        "      # Add the off_carriers\n",
        "#       print(\"carriers, off_carriers shape\",carriers.shape,\n",
        "#             np.zeros((nb_ofdm_group, self.nb_off_carriers)).shape)\n",
        "      carriers = np.concatenate((\n",
        "          np.zeros((nb_ofdm_group, self.nb_off_carriers)),carriers),\n",
        "          axis=1)\n",
        "      \n",
        "      \n",
        "    # Then use the matrix to transform them into OFDM symbols\n",
        "    ofdm_signal = np.zeros(carriers.shape)\n",
        "    for i in range(nb_ofdm_group):\n",
        "      ofdm_signal[i,:] = np.fft.ifft(carriers[i,:])\n",
        "    # Add the cyclic prefix\n",
        "    #print(\"ofdm signal cp shape : \", \n",
        "    #      np.shape(ofdm_signal[:,self.nb_carriers-self.cp_len:]),\n",
        "    #      \" and for the rest of the signal : \", np.shape(ofdm_signal))\n",
        "    ofdm_signal_cp = np.concatenate(\n",
        "        (ofdm_signal[:,self.nb_carriers - self.cp_len:],ofdm_signal),\n",
        "        axis=1)\n",
        "    # Return the global frame\n",
        "    return np.reshape(ofdm_signal_cp, \n",
        "                      (nb_ofdm_group * (self.cp_len + self.nb_carriers)))\n",
        "  \n",
        "  \n",
        "  \"\"\" Encode the bit frame according to the defined trellis of the emiter\n",
        "  :frame: The frame that has to be encoded.\n",
        "  \"\"\"\n",
        "  def encode(self, frame):\n",
        "    # Channel coding of the frame\n",
        "    return cp.channelcoding.conv_encode(frame, self.enc_trellis)\n",
        "      "
      ],
      "execution_count": 0,
      "outputs": []
    },
    {
      "metadata": {
        "id": "I3BtmSf-x3RT",
        "colab_type": "code",
        "outputId": "0f42fa84-41f3-4d53-bade-519b076a0fb5",
        "colab": {
          "base_uri": "https://localhost:8080/",
          "height": 452
        }
      },
      "cell_type": "code",
      "source": [
        "\"\"\"\n",
        "  Unitary test of Emiter class\n",
        "\"\"\"\n",
        "# Channel code parameters + trellis generation\n",
        "mem_size = np.array([2])\n",
        "g_matrix = np.array([[0o5, 0o7]])\n",
        "trellis = Trellis(mem_size, g_matrix)\n",
        "\n",
        "# Modulation parameters\n",
        "modulation_order = 4\n",
        "frame_length = 20000\n",
        "\n",
        "# OFDM parameters\n",
        "nb_carriers = 128\n",
        "cp_length = 10\n",
        "off_carrier = 28\n",
        "\n",
        "\n",
        "# Creation of the emiter\n",
        "emiter = Emiter(cp_length, nb_carriers, modulation_order, trellis, nb_off_carriers=off_carrier)\n",
        "\n",
        "# Basic unitary test\n",
        "print(\"Modulation exponent: \", emiter.modulator.num_bits_symbol)\n",
        "\n",
        "# Vizualization of trellis\n",
        "#(emiter.get_trellis()).visualize()\n",
        "\n",
        "# Test the frame modulation\n",
        "# Generation of a frame \n",
        "frame = np.random.randint(0, high=2, size=(frame_length))\n",
        "print(\"The frame length is : \",frame.shape)\n",
        "\n",
        "# Channel Coding by the emiter\n",
        "enc_frame = emiter.encode(frame)\n",
        "print(\"The encoded frame length is : \", enc_frame.shape)\n",
        "\n",
        "# Modulation operation by the emiter\n",
        "mod_frame = emiter.modulate(enc_frame)\n",
        "print(\"The modulated frame shape is : \", mod_frame.shape)\n",
        "\n",
        "\n",
        "# Verification of the spectrum :\n",
        "plot_spectrum(mod_frame,1)"
      ],
      "execution_count": 0,
      "outputs": [
        {
          "output_type": "stream",
          "text": [
            "Modulation exponent:  2\n",
            "The frame length is :  (20000,)\n",
            "The encoded frame length is :  (40004,)\n"
          ],
          "name": "stdout"
        },
        {
          "output_type": "stream",
          "text": [
            "/usr/local/lib/python3.6/dist-packages/ipykernel_launcher.py:90: ComplexWarning: Casting complex values to real discards the imaginary part\n"
          ],
          "name": "stderr"
        },
        {
          "output_type": "stream",
          "text": [
            "The modulated frame shape is :  (27738,)\n"
          ],
          "name": "stdout"
        },
        {
          "output_type": "display_data",
          "data": {
            "image/png": "[encoded data removed]",
            "text/plain": [
              "<Figure size 576x396 with 1 Axes>"
            ]
          },
          "metadata": {
            "tags": []
          }
        }
      ]
    },
    {
      "metadata": {
        "id": "qwNk3VH-zJHL",
        "colab_type": "code",
        "colab": {}
      },
      "cell_type": "code",
      "source": [
        "\"\"\"\n",
        "  AWGN Channel class\n",
        "\"\"\"\n",
        "\n",
        "class AWGN_Channel:\n",
        "  \n",
        "  \"\"\" Class of the AWGN channel.\n",
        "  \n",
        "  :mean: A float, mean of the gaussian noise.\n",
        "  :var: A float, variance of the gaussian noise.\n",
        "  :non_lin_coeff: A float, value of the non-linearity coefficient of the channel.\n",
        "  :iq_imbalance: A float, value of the iq_imbalance.\n",
        "    \n",
        "  \"\"\"\n",
        "  def __init__(self, mean, var, non_lin_coeff=0, iq_imbalance=None):\n",
        "    self.mean = mean\n",
        "    self.var = var\n",
        "    self.gamma = non_lin_coeff\n",
        "    self.beta = iq_imbalance\n",
        "  \n",
        "  \"\"\" Return the value of the frame after get through the channel\n",
        "  \n",
        "  :mod_frame: An array, input of of the channel. Is the modulated frame from an \n",
        "    emiter.\n",
        "  \"\"\"  \n",
        "  def get_trough(self, mod_frame):\n",
        "      # Test if there is a non-linearity\n",
        "      if slef.beta is not None:\n",
        "        mod_frame = add_iq_imbalance(mod_frame)\n",
        "        \n",
        "      # Non linearity\n",
        "      mod_frame -= self.gamma * np.abs(mod_frame) ** 2 * mod_frame\n",
        "      \n",
        "      # Add Gaussian noise\n",
        "      output = mod_frame + np.random.normal(self.mean, self.variance,\n",
        "                                        mod_frame.shape)\n",
        "      # Add second non linearity\n",
        "      if slef.beta is not None:\n",
        "        output = add_iq_imbalance(output)\n",
        "        \n",
        "      # Non linearity for the second time\n",
        "      output -= self.gamma * np.abs(output)**2 * output\n",
        "  \n",
        "  \n",
        "  \"\"\" Add IQ imbalance to a given array\n",
        "  :x: An array, input which will be imbalanced accodring to attributes of the \n",
        "    AWGN channel class\n",
        "  \"\"\"\n",
        "  def add_iq_imbalance(x):\n",
        "    return slef.beta * np.real(x) + 1j * np.imag(x)"
      ],
      "execution_count": 0,
      "outputs": []
    },
    {
      "metadata": {
        "id": "evetvO6yLlnX",
        "colab_type": "code",
        "colab": {}
      },
      "cell_type": "code",
      "source": [
        "### Monte-carlo simulations\n",
        "\n",
        "min_error_frame = 3000; max_test = 5000;\n",
        "\n",
        "step_db = 2; max_snr = 10; min_snr = 0;\n",
        "snr_db = np.array(range(min_snr, max_snr, step_db))\n",
        "BER = np.zeros((1,len(snr_db)))\n",
        "\n",
        "\n",
        "for ind_SNR in range(len(snr_db)):\n",
        "    # Init variables\n",
        "    nb_tries = 0\n",
        "    nb_frame_error = 0\n",
        "    global_error_nb = 0\n",
        "    # Monte-Carlo method\n",
        "    while ((nb_tries < max_test) && (nb_frame_error < min_error_frame)):\n",
        "        # Generation of the frames\n",
        "        frame = randi([0 1], 1, frame_length);\n",
        "        # Send the frame to the physical layer\n",
        "        recieved_frame = physical_layer(frame, snr_db(ind_SNR), trellis)\n",
        "        # Counting errors\n",
        "        errors_num = sum(recieved_frame~=frame)\n",
        "        # Look at the number of mistake\n",
        "        if (errors_num > 0):\n",
        "            # Add the number of frame errors\n",
        "            nb_frame_error = nb_frame_error + 1\n",
        "        global_error_nb = global_error_nb + errors_num\n",
        "        # increase the number of tries\n",
        "        nb_tries = nb_tries + 1\n",
        "    BER(ind_SNR) = global_error_nb/(nb_tries * frame_length)\n",
        "    print(['BER simulation completed at ',num2str(100 * ind_SNR/length(snr_db)),' %'])\n"
      ],
      "execution_count": 0,
      "outputs": []
    },
    {
      "metadata": {
        "id": "F0QjUoFoLqb2",
        "colab_type": "code",
        "colab": {}
      },
      "cell_type": "code",
      "source": [
        "### Printing results"
      ],
      "execution_count": 0,
      "outputs": []
    },
    {
      "metadata": {
        "id": "TykI3CuaJDLE",
        "colab_type": "text"
      },
      "cell_type": "markdown",
      "source": [
        ""
      ]
    }
  ]
}
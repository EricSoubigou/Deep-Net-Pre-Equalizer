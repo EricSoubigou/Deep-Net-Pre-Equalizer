{
 "cells": [
  {
   "cell_type": "raw",
   "metadata": {},
   "source": [
    "-------------------------------------------------------------------------------------------------------------------\n",
    "Implementation of : \"Online Label Recovery for Deep Learning-based communication through Error Correcting codes\"\n",
    "\n",
    "Author : Eric Soubigou\n",
    "\n",
    "Date : Spring 2019\n",
    "\n",
    "-------------------------------------------------------------------------------------------------------------------\n",
    "\n",
    "Description :  Creation of a DFE like with Deep Learning technologies "
   ]
  },
  {
   "cell_type": "code",
   "execution_count": 1,
   "metadata": {},
   "outputs": [
    {
     "name": "stdout",
     "output_type": "stream",
     "text": [
      "Requirement already up-to-date: pip in /home/eric/.local/lib/python3.6/site-packages (19.1.1)\n",
      "Requirement already satisfied: scipy in /home/eric/.local/lib/python3.6/site-packages (1.2.1)\n",
      "Requirement already satisfied: matplotlib in /home/eric/.local/lib/python3.6/site-packages (3.0.3)\n",
      "Requirement already satisfied: matplotlib2tikz in /usr/local/lib/python3.6/dist-packages (0.7.4)\n",
      "Requirement already satisfied: torch in /home/eric/.local/lib/python3.6/site-packages (1.0.1.post2)\n",
      "Requirement already satisfied: numpy>=1.8.2 in /home/eric/.local/lib/python3.6/site-packages (from scipy) (1.16.2)\n",
      "Requirement already satisfied: pyparsing!=2.0.4,!=2.1.2,!=2.1.6,>=2.0.1 in /home/eric/.local/lib/python3.6/site-packages (from matplotlib) (2.4.0)\n",
      "Requirement already satisfied: kiwisolver>=1.0.1 in /home/eric/.local/lib/python3.6/site-packages (from matplotlib) (1.0.1)\n",
      "Requirement already satisfied: python-dateutil>=2.1 in /home/eric/.local/lib/python3.6/site-packages (from matplotlib) (2.8.0)\n",
      "Requirement already satisfied: cycler>=0.10 in /home/eric/.local/lib/python3.6/site-packages (from matplotlib) (0.10.0)\n",
      "Requirement already satisfied: six in /home/eric/.local/lib/python3.6/site-packages (from matplotlib2tikz) (1.12.0)\n",
      "Requirement already satisfied: Pillow in /usr/lib/python3/dist-packages (from matplotlib2tikz) (5.1.0)\n",
      "Requirement already satisfied: setuptools in /usr/local/lib/python3.6/dist-packages (from kiwisolver>=1.0.1->matplotlib) (40.8.0)\n",
      "Collecting git+git://github.com/veeresht/CommPy.git@master\n",
      "  Cloning git://github.com/veeresht/CommPy.git (to revision master) to /tmp/pip-req-build-iid8_a66\n",
      "  Running command git clone -q git://github.com/veeresht/CommPy.git /tmp/pip-req-build-iid8_a66\n",
      "Requirement already satisfied (use --upgrade to upgrade): scikit-commpy==0.3.0 from git+git://github.com/veeresht/CommPy.git@master in /home/eric/.local/lib/python3.6/site-packages\n",
      "Requirement already satisfied: numpy in /home/eric/.local/lib/python3.6/site-packages (from scikit-commpy==0.3.0) (1.16.2)\n",
      "Requirement already satisfied: scipy in /home/eric/.local/lib/python3.6/site-packages (from scikit-commpy==0.3.0) (1.2.1)\n",
      "Requirement already satisfied: matplotlib in /home/eric/.local/lib/python3.6/site-packages (from scikit-commpy==0.3.0) (3.0.3)\n",
      "Requirement already satisfied: cycler>=0.10 in /home/eric/.local/lib/python3.6/site-packages (from matplotlib->scikit-commpy==0.3.0) (0.10.0)\n",
      "Requirement already satisfied: pyparsing!=2.0.4,!=2.1.2,!=2.1.6,>=2.0.1 in /home/eric/.local/lib/python3.6/site-packages (from matplotlib->scikit-commpy==0.3.0) (2.4.0)\n",
      "Requirement already satisfied: python-dateutil>=2.1 in /home/eric/.local/lib/python3.6/site-packages (from matplotlib->scikit-commpy==0.3.0) (2.8.0)\n",
      "Requirement already satisfied: kiwisolver>=1.0.1 in /home/eric/.local/lib/python3.6/site-packages (from matplotlib->scikit-commpy==0.3.0) (1.0.1)\n",
      "Requirement already satisfied: six in /home/eric/.local/lib/python3.6/site-packages (from cycler>=0.10->matplotlib->scikit-commpy==0.3.0) (1.12.0)\n",
      "Requirement already satisfied: setuptools in /usr/local/lib/python3.6/dist-packages (from kiwisolver>=1.0.1->matplotlib->scikit-commpy==0.3.0) (40.8.0)\n",
      "Building wheels for collected packages: scikit-commpy\n",
      "  Building wheel for scikit-commpy (setup.py) ... \u001b[?25ldone\n",
      "\u001b[?25h  Stored in directory: /tmp/pip-ephem-wheel-cache-rl3kb5hw/wheels/d1/6a/31/8ddc70e8eb8a1c3ad344032ed43b4ebfccc41007e8850226d0\n",
      "Successfully built scikit-commpy\n",
      "================== DONE ! ==================\n"
     ]
    }
   ],
   "source": [
    "# Install libraries :\n",
    "!pip3 install --user --upgrade pip\n",
    "!pip3 install --user scipy matplotlib matplotlib2tikz torch\n",
    "!pip3 install --user git+git://github.com/veeresht/CommPy.git@master\n",
    "print(\"================== DONE ! ==================\")"
   ]
  },
  {
   "cell_type": "code",
   "execution_count": 1,
   "metadata": {},
   "outputs": [],
   "source": [
    "## To modify the code while running the notebook whitout any restart\n",
    "%load_ext autoreload\n",
    "%autoreload 2"
   ]
  },
  {
   "cell_type": "code",
   "execution_count": 2,
   "metadata": {},
   "outputs": [],
   "source": [
    "from __future__ import print_function\n",
    "\n",
    "# Numpy\n",
    "import numpy as np\n",
    "np.set_printoptions(precision=2)\n",
    "\n",
    "# For DL libraries \n",
    "import torch\n",
    "import torch.nn as nn\n",
    "import torch.nn.functional as F\n",
    "\n",
    "# Set the use of device which will be used \n",
    "if torch.cuda.is_available():\n",
    "    device = torch.device('cuda')\n",
    "    FloatTensor = torch.cuda.FloatTensor\n",
    "else:\n",
    "    device = torch.device('cpu')\n",
    "    FloatTensor = torch.FloatTensor"
   ]
  },
  {
   "cell_type": "code",
   "execution_count": 26,
   "metadata": {},
   "outputs": [
    {
     "name": "stdout",
     "output_type": "stream",
     "text": [
      "0.5\n",
      "Results will be printed in :  ./results/OFDM_eq_MMSE_coding_0.5_AWGN_non_lin_coeff_0.5_iq_im_0.5_freq_update_200_snr_10_time_step_1000_pre_equalizer_update_202_ser_sim.pickle\n",
      "New parameter gamma is  0.5 beta is  0.6  at t =  0\n",
      "At  0.0  % , SER =  0.0  for  Eb/N0 =  10  dB , SNR =  10.0 dB  at time step 0\n",
      "At  10.0  % , SER =  0.0  for  Eb/N0 =  10  dB , SNR =  10.0 dB  at time step 100\n",
      "New parameter gamma is  0.5 beta is  0.45  at t =  200\n",
      "At  20.0  % , SER =  0.0009746588693957114  for  Eb/N0 =  10  dB , SNR =  10.0 dB  at time step 200\n",
      "At  30.0  % , SER =  0.20175438596491227  for  Eb/N0 =  10  dB , SNR =  10.0 dB  at time step 300\n",
      "New parameter gamma is  0.5 beta is  0.55  at t =  400\n",
      "At  40.0  % , SER =  0.2134502923976608  for  Eb/N0 =  10  dB , SNR =  10.0 dB  at time step 400\n",
      "At  50.0  % , SER =  0.16666666666666666  for  Eb/N0 =  10  dB , SNR =  10.0 dB  at time step 500\n",
      "New parameter gamma is  0.5 beta is  0.45  at t =  600\n",
      "At  60.0  % , SER =  0.14912280701754385  for  Eb/N0 =  10  dB , SNR =  10.0 dB  at time step 600\n",
      "At  70.0  % , SER =  0.22807017543859648  for  Eb/N0 =  10  dB , SNR =  10.0 dB  at time step 700\n",
      "New parameter gamma is  0.5 beta is  0.55  at t =  800\n",
      "At  80.0  % , SER =  0.23294346978557504  for  Eb/N0 =  10  dB , SNR =  10.0 dB  at time step 800\n",
      "At  90.0  % , SER =  0.26413255360623783  for  Eb/N0 =  10  dB , SNR =  10.0 dB  at time step 900\n"
     ]
    },
    {
     "data": {
      "image/png": "[encoded data removed]",
      "text/plain": [
       "<Figure size 432x288 with 1 Axes>"
      ]
     },
     "metadata": {
      "needs_background": "light"
     },
     "output_type": "display_data"
    }
   ],
   "source": [
    "### Launch simulation\n",
    "from MonteCarlo import *\n",
    "\n",
    "# Select the model\n",
    "model_path = \"./models/pre_eq_model.pth\"\n",
    "\n",
    "# Define the parameter dictionary\n",
    "simulation_ser_param_dict = {\n",
    "    \"sim_parameters\": {\n",
    "        \"nb_frame\": 100, # Number of error frame used for each time step\n",
    "        \"eb_n0_db\": 10, # Eb/N0 chosen for the performances testing\n",
    "        \"nb_time_step\": 1000, # Number of time step used for the simulation\n",
    "    },\n",
    "    \"channel_parameters\": {\n",
    "        \"channel_type\": \"AWGN\", # String to indicate the type of channel that is used\n",
    "        \"non_lin_coeff\": 0.5, # Value of the non-linearity coefficient\n",
    "        \"non_lin_coeff_set\": np.array([0.5]),\n",
    "        \"iq_imbalance\": 0.5, # Values of the IQ-imbalance None, 0.5\n",
    "        \"iq_imbalance_set\": np.array([0.4, 0.45, 0.5, 0.55, 0.6]), #np.array([None])\n",
    "        \"chan_param_freq_update\": 200, # Update frequency of the iq_imbalance and non-linear coefficient (ie. counter of\n",
    "            # OFDM symbols send)\n",
    "        \"channel_taps\": np.array([1]),\n",
    "        # Value of the channel taps for the simulation (np.array([1]) can be used if we want to only test AWGN)\n",
    "    },\n",
    "    \"frame_length\": 1024,#32768,#16384,#,8192,#4096,#2048,#1024, # Frame size (don\"t change the value, it was set to fit the article's parameters)\n",
    "    \"modulation\": {\n",
    "        \"modulation_order\": 4, # Modulation order (PSK moduation)\n",
    "        \"nb_carriers\": 64, # Number of OFDM carriers used for modulation\n",
    "        \"cp_length\": 8, # Size of the Cyclic Prefix for the OFDM system\n",
    "        \"off_carrier\": 0, # Number of off-carriers for the simualtion\n",
    "    },\n",
    "    \"equalizer\":\"MMSE\", # Type of equalizer used (None, ZF, MMSE)\n",
    "    \"channel_coding\": { # Parameters for the channel coding part (Handle by CommPy library)\n",
    "        \"mem_size\": np.array([2]), # Size of the memory for the channel coding (put it to None if no channel coding)\n",
    "        \"g_matrix\": np.array([[0o5, 0o7]]), # Value of the generator polynomial in octal domain (put it to None if no channel coding)\n",
    "        \"rho\": 1 / 2, #Coding rate (put 0 if we don't want to use channel coding)\n",
    "    },\n",
    "    \"pre_equalizer\": {\n",
    "        \"model_path\": model_path, # None if no trained model is used.\n",
    "        \"feed_back_freq\": 202, # Can be used at a certain frequency.\n",
    "    }\n",
    "}\n",
    "\n",
    "# Launch the simulation\n",
    "feedback_update_simulation(simulation_ser_param_dict, add_on_path=\"ser_sim\")"
   ]
  },
  {
   "cell_type": "code",
   "execution_count": null,
   "metadata": {},
   "outputs": [],
   "source": []
  }
 ],
 "metadata": {
  "kernelspec": {
   "display_name": "Python 3",
   "language": "python",
   "name": "python3"
  },
  "language_info": {
   "codemirror_mode": {
    "name": "ipython",
    "version": 3
   },
   "file_extension": ".py",
   "mimetype": "text/x-python",
   "name": "python",
   "nbconvert_exporter": "python",
   "pygments_lexer": "ipython3",
   "version": "3.6.8"
  }
 },
 "nbformat": 4,
 "nbformat_minor": 2
}
